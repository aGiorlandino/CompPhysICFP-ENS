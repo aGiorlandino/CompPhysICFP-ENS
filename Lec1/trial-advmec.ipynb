{
 "cells": [
  {
   "cell_type": "code",
   "execution_count": 129,
   "metadata": {},
   "outputs": [],
   "source": [
    "import numpy as np \n",
    "import matplotlib.pyplot as plt \n",
    "\n",
    "M=100\n",
    "alpha=1\n",
    "gamma=1\n",
    "dt=0.001\n",
    "\n",
    "W = np.zeros([M,M])\n",
    "for i in range(0,M):\n",
    "    for j in range(0,M):\n",
    "        if i==j : W[i][j]= -alpha*(M-i) - gamma*i\n",
    "        if i-1==j and i>0 : W[i][j]= alpha*(M-i)\n",
    "        if i+1==j and i<M: W[i][j]= gamma*i \n",
    "\n"
   ]
  },
  {
   "cell_type": "code",
   "execution_count": 130,
   "metadata": {},
   "outputs": [],
   "source": [
    "p=[np.random.rand(M)]\n",
    "p[-1]/=np.linalg.norm(p[-1])\n",
    "\n"
   ]
  },
  {
   "cell_type": "code",
   "execution_count": 131,
   "metadata": {},
   "outputs": [],
   "source": [
    "for t in range(1000):\n",
    "    p.append(np.dot(W*dt+np.diag(np.ones(M)),p[-1]))\n",
    "    p[-1]/=np.linalg.norm(p[-1])\n",
    "    "
   ]
  },
  {
   "cell_type": "code",
   "execution_count": 132,
   "metadata": {},
   "outputs": [
    {
     "data": {
      "text/plain": [
       "<matplotlib.collections.PathCollection at 0x7f9908da42e0>"
      ]
     },
     "execution_count": 132,
     "metadata": {},
     "output_type": "execute_result"
    },
    {
     "data": {
      "image/png": "[encoded data removed]",
      "text/plain": [
       "<Figure size 432x288 with 1 Axes>"
      ]
     },
     "metadata": {
      "needs_background": "light"
     },
     "output_type": "display_data"
    }
   ],
   "source": [
    "plt.scatter(np.arange(M),p[-1])"
   ]
  },
  {
   "cell_type": "code",
   "execution_count": null,
   "metadata": {},
   "outputs": [],
   "source": []
  }
 ],
 "metadata": {
  "kernelspec": {
   "display_name": "Python 3.9.7 ('base')",
   "language": "python",
   "name": "python3"
  },
  "language_info": {
   "codemirror_mode": {
    "name": "ipython",
    "version": 3
   },
   "file_extension": ".py",
   "mimetype": "text/x-python",
   "name": "python",
   "nbconvert_exporter": "python",
   "pygments_lexer": "ipython3",
   "version": "3.9.7"
  },
  "orig_nbformat": 4,
  "vscode": {
   "interpreter": {
    "hash": "3cc6e0ac1b86c4c951d966564e11dad34f77a6fd97090ff5a8f97422f57adefa"
   }
  }
 },
 "nbformat": 4,
 "nbformat_minor": 2
}
