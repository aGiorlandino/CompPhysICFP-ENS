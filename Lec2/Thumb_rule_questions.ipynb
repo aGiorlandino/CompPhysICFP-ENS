{
  "cells": [
    {
      "cell_type": "markdown",
      "metadata": {
        "id": "Vd_np_-gQWp8"
      },
      "source": [
        "# Thumb rule and Markov chain Monte Carlo\n",
        "\n",
        "The goal of this tutorial is to practice the Markov chain algorithm and to explore how\n",
        "the statistical error of the result depends on specific choices for the\n",
        "evolution of the configurations. We will focus on the simple example of the estimate for $\\pi$\n",
        "using uniformly distributed points over a square $[-1,1]^2$\n",
        "\n",
        "<center>\n",
        "<img src=\"https://gist.github.com/mferrero/ae328ab0e3a0d3d7181a007daf5a373a/raw/circle.png\" width=300 height=300 />\n",
        "</center>\n",
        "\n",
        "An estimate for $\\pi$ is obtained by counting the fraction of points that are inside the\n",
        "unit radius circle:\n",
        "\n",
        "$$\n",
        "\\pi \\simeq 4\\times\\frac{N_{\\mathrm{inside}}}{N_{\\mathrm{total}}}\n",
        "$$\n",
        "\n"
      ]
    },
    {
      "cell_type": "markdown",
      "metadata": {
        "id": "uYpaubGkvogU"
      },
      "source": [
        "Let's first import the relevant libraries once and for good."
      ]
    },
    {
      "cell_type": "code",
      "execution_count": null,
      "metadata": {
        "id": "m3NliYktvogW"
      },
      "outputs": [],
      "source": [
        "%matplotlib inline\n",
        "import numpy as np\n",
        "import matplotlib.pylab as plt"
      ]
    },
    {
      "cell_type": "markdown",
      "metadata": {
        "id": "KS3-ffZXvogZ"
      },
      "source": [
        "## Direct sampling\n",
        "\n",
        "As a warm up, we will try to get an estimate for $\\pi$ by direct uniform sampling. In other words,\n",
        "we will directly generate (with uniform probability) random points within the $[-1,1]^2$\n",
        "square and evaluate $\\pi$ by looking at the fraction of points within the radius 1 circle."
      ]
    },
    {
      "cell_type": "markdown",
      "metadata": {
        "id": "4DJNFC-5vogb"
      },
      "source": [
        "### Statistical evaluation of $\\pi$\n",
        "\n",
        "Write a function that evaluates $\\pi$ using a sample of $N$ points.\n",
        "You can obtain a random pair of numbers in $[-1,1]$ with\n",
        "```python\n",
        "point = np.random.uniform(-1, 1, 2)\n",
        "```"
      ]
    },
    {
      "cell_type": "code",
      "execution_count": null,
      "metadata": {
        "id": "S1F2RmiYvogb"
      },
      "outputs": [],
      "source": []
    },
    {
      "cell_type": "markdown",
      "metadata": {
        "id": "HCOBAEDPvogc"
      },
      "source": [
        "### Statistical error bars\n",
        "\n",
        "If you have time (you can do this at the end), you can try to compute the statistical error on the estimate\n",
        "of $\\pi$. To do so, generate several estimates (typically 100 or so) and compute\n",
        "their standard deviation:\n",
        "\n",
        "$$\n",
        "  \\sigma = \\sqrt{ \\langle \\mathcal{O}^2 \\rangle - \\langle \\mathcal{O} \\rangle^2 }\n",
        "$$\n",
        "\n",
        "where $\\mathcal{O}$ is the random variable used to estimate $\\pi$. How does the\n",
        "standard deviation depend on the number of sample points $N$?"
      ]
    },
    {
      "cell_type": "code",
      "execution_count": null,
      "metadata": {
        "id": "C5tEj1SRvoge"
      },
      "outputs": [],
      "source": []
    },
    {
      "cell_type": "markdown",
      "metadata": {
        "id": "5R9dZqmLTNET"
      },
      "source": [
        "## Markov chain algorithm\n",
        "\n",
        "Direct sampling is in general very difficult to achieve. Even though it is easy for our\n",
        "example to calculate $\\pi$, let us pretend that we do not know how to do direct sampling.\n",
        "We then need the more general strategy of a Markov chain algorithm. As you saw in the\n",
        "lecture, the idea is to let a \"walker\" evolve over the surface of the square. At every\n",
        "step the walker moves within a square $[-\\delta, \\delta]^2$ around its position, where\n",
        "$\\delta$ is a chosen maximal displacement length. If the displacement\n",
        "would bring the walker out of the square, then we let the walker where it was and do not\n",
        "move it. One of the questions we will try to answer is how we should choose the\n",
        "parameter $\\delta$."
      ]
    },
    {
      "cell_type": "markdown",
      "metadata": {
        "id": "Ai6IWzWcvogj"
      },
      "source": [
        "### Statistical evaluation of $\\pi$\n",
        "\n",
        "Write a function that evaluates $\\pi$ using a walker that will make a\n",
        "total of $N$ steps."
      ]
    },
    {
      "cell_type": "code",
      "execution_count": null,
      "metadata": {
        "id": "SYKuZg8_vogj"
      },
      "outputs": [],
      "source": []
    },
    {
      "cell_type": "markdown",
      "metadata": {
        "id": "0aiDCxEHvogj"
      },
      "source": [
        "### Acceptance rate\n",
        "\n",
        "We will be interested in how the algorithm performs for different values of $\\delta$.\n",
        "An important ingredient in that respect is the \"acceptance rate\". This is the fraction\n",
        "of proposed moves that have led to a change of position of the walker (that have been accepted).\n",
        "Modify your function so that it also computes and returns the acceptance rate.\n",
        "How do you expect the acceptance rate to depend on $\\delta$?"
      ]
    },
    {
      "cell_type": "code",
      "execution_count": null,
      "metadata": {
        "id": "ebJp7Q1Evogl"
      },
      "outputs": [],
      "source": []
    },
    {
      "cell_type": "markdown",
      "metadata": {
        "id": "J5Ml_XeEvogm"
      },
      "source": [
        "### Statistical error bars\n",
        "\n",
        "Using the Markov chain algorithm, both the estimate for $\\pi$ and the acceptance rate\n",
        "have a statistical variance. It is interesting to study the standard deviation\n",
        "(error bar) on these quantities. Write a new function that uses 200 samples to\n",
        "estimate the standard deviation on the estimate for $\\pi$ and on the\n",
        "acceptance rate. Ideally, the function could return 4 number: the estimate\n",
        "for pi, its standard deviation, the estimate of the acceptance rate, its\n",
        "standard deviation. Remeber that because of the central limit theorem,\n",
        "your error bar will be the standard deviation of your samples divided\n",
        "by $\\sqrt{N_\\mathrm{samples}}$, i.e.\n",
        "\n",
        "$$\n",
        " \\sigma = \\frac{1}{\\sqrt{N_\\mathrm{samples}}} \\big[ \\langle \\mathcal{O}^2\\rangle\n",
        " - \\langle \\mathcal{O} \\rangle^2 \\big]\n",
        "$$"
      ]
    },
    {
      "cell_type": "code",
      "execution_count": null,
      "metadata": {
        "id": "6d52ZfbJvogn"
      },
      "outputs": [],
      "source": []
    },
    {
      "cell_type": "markdown",
      "metadata": {
        "id": "1zPw42btvogo"
      },
      "source": [
        "### Dependence on $\\delta$\n",
        "\n",
        "We are now in a position to investigate how the results depend on $\\delta$.\n",
        "Create and discuss the three following plots:\n",
        "\n",
        "   * The estimate of $\\pi$ versus $\\delta$ (with error bars)\n",
        "   * The acceptance rate versus $\\delta$ (with error bars)\n",
        "   * The error bar for $\\pi$ versus $\\delta$\n",
        "   \n",
        "The runs will start to take some time. So you may want to only take about\n",
        "$N=100$ steps for the walker. You can investigate values of $\\delta \\in [0,4]$.\n",
        "By looking at the behavior of the error bars, what can you say about the\n",
        "optimal value that should be taken for $\\delta$?"
      ]
    },
    {
      "cell_type": "code",
      "execution_count": null,
      "metadata": {
        "id": "rIrASE3bvogp"
      },
      "outputs": [],
      "source": []
    },
    {
      "cell_type": "markdown",
      "metadata": {
        "id": "929oYJoFvogq"
      },
      "source": [
        "### Optimal $\\delta$ from the Thumb rule\n",
        "\n",
        "We have now seen that the smallest statistical error bars are obtained when the acceptance\n",
        "rate is close to 0.5. Use a bisection algorithm that will find a value of $\\delta$ yielding\n",
        "an acceptance rate in $[0.45, 0.55]$. Do not reinvent the wheel, you can use the `scipy` library\n",
        "to do this:\n",
        "```python\n",
        "import scipy.optimize\n",
        "scipy.optimize.bisect(f, a, b, xtol=0.05)\n",
        "```\n",
        "This function will find a zero of the function `f` between `a` and `b` with a tolerance\n",
        "`xtol`."
      ]
    },
    {
      "cell_type": "code",
      "execution_count": null,
      "metadata": {
        "id": "w5wkfKPBvogq"
      },
      "outputs": [],
      "source": []
    }
  ],
  "metadata": {
    "colab": {
      "collapsed_sections": [],
      "provenance": []
    },
    "kernelspec": {
      "display_name": "Python 3.9.10 64-bit",
      "language": "python",
      "name": "python3"
    },
    "language_info": {
      "codemirror_mode": {
        "name": "ipython",
        "version": 3
      },
      "file_extension": ".py",
      "mimetype": "text/x-python",
      "name": "python",
      "nbconvert_exporter": "python",
      "pygments_lexer": "ipython3",
      "version": "3.9.10"
    },
    "vscode": {
      "interpreter": {
        "hash": "aee8b7b246df8f9039afb4144a1f6fd8d2ca17a180786b69acc140d282b71a49"
      }
    }
  },
  "nbformat": 4,
  "nbformat_minor": 0
}
