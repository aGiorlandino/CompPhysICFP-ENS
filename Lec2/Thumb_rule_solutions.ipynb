{
  "cells": [
    {
      "cell_type": "markdown",
      "metadata": {
        "id": "Vd_np_-gQWp8"
      },
      "source": [
        "# Thumb rule and Markov chain Monte Carlo\n",
        "\n",
        "The goal of this tutorial is to practice the Markov chain algorithm and to explore how\n",
        "the statistical error of the result depends on specific choices for the\n",
        "evolution of the configurations. We will focus on the simple example of the estimate for $\\pi$\n",
        "using uniformly distributed points over a square $[-1,1]^2$\n",
        "\n",
        "<center>\n",
        "<img src=\"https://gist.github.com/mferrero/ae328ab0e3a0d3d7181a007daf5a373a/raw/circle.png\" width=300 height=300 />\n",
        "</center>\n",
        "\n",
        "An estimate for $\\pi$ is obtained by counting the fraction of points that are inside the\n",
        "unit radius circle:\n",
        "\n",
        "$$\n",
        "\\pi \\simeq 4\\times\\frac{N_{\\mathrm{inside}}}{N_{\\mathrm{total}}}\n",
        "$$\n",
        "\n"
      ]
    },
    {
      "cell_type": "markdown",
      "metadata": {
        "id": "f7ohlMuZvqTr"
      },
      "source": [
        "Let's first import the relevant libraries once and for good."
      ]
    },
    {
      "cell_type": "code",
      "execution_count": 1,
      "metadata": {
        "id": "0lW1Cl_xvqTs"
      },
      "outputs": [],
      "source": [
        "%matplotlib inline\n",
        "import numpy as np\n",
        "import matplotlib.pylab as plt"
      ]
    },
    {
      "cell_type": "markdown",
      "metadata": {
        "id": "8ECBqx5EvqTv"
      },
      "source": [
        "## Direct sampling\n",
        "\n",
        "As a warm up, we will try to get an estimate for $\\pi$ by direct uniform sampling. In other words,\n",
        "we will directly generate (with uniform probability) random points within the $[-1,1]^2$\n",
        "square and evaluate $\\pi$ by looking at the fraction of points within the radius 1 circle."
      ]
    },
    {
      "cell_type": "markdown",
      "metadata": {
        "id": "cMpqDB6XvqTw"
      },
      "source": [
        "### Statistical evaluation of $\\pi$\n",
        "\n",
        "Write a function that evaluates $\\pi$ using a sample of $N$ points.\n",
        "You can obtain a random pair of numbers in $[-1,1]$ with\n",
        "```python\n",
        "point = np.random.uniform(-1, 1, 2)\n",
        "```"
      ]
    },
    {
      "cell_type": "markdown",
      "metadata": {
        "id": "s0zXb7WevqTy"
      },
      "source": [
        "### Solution\n",
        "\n",
        "Here is a possible way to write the function. I generate all the\n",
        "points in one line with `np.random.uniform(-1, 1, [N, 2])`. This allows to have a faster code,\n",
        "but of course it is completely fine to use a loop to generate the different points."
      ]
    },
    {
      "cell_type": "code",
      "execution_count": 2,
      "metadata": {
        "id": "7zl7Mm8NvqTy"
      },
      "outputs": [
        {
          "name": "stdout",
          "output_type": "stream",
          "text": [
            "Estimate =  3.1592\n"
          ]
        }
      ],
      "source": [
        "# compute pi estimate from uniform samples\n",
        "def pi_uniform(N):\n",
        "    \n",
        "    points = np.random.uniform(-1, 1, [N, 2])\n",
        "    dist = np.linalg.norm(points, axis=1)\n",
        "    inside = np.sum(dist < 1)\n",
        "    return 4 * inside / N\n",
        "    \n",
        "print(\"Estimate = \", pi_uniform(10000))"
      ]
    },
    {
      "cell_type": "markdown",
      "metadata": {
        "id": "BnWPloggvqT0"
      },
      "source": [
        "### Statistical error bars\n",
        "\n",
        "If you have time (you can do this at the end), you can try to compute the statistical error on the estimate\n",
        "of $\\pi$. To do so, generate several estimates (typically 100 or so) and compute\n",
        "their standard deviation:\n",
        "\n",
        "$$\n",
        "  \\sigma = \\sqrt{ \\langle \\mathcal{O}^2 \\rangle - \\langle \\mathcal{O} \\rangle^2 }\n",
        "$$\n",
        "\n",
        "where $\\mathcal{O}$ is the random variable used to estimate $\\pi$. How does the\n",
        "standard deviation depend on the number of sample points $N$?"
      ]
    },
    {
      "cell_type": "markdown",
      "metadata": {
        "id": "UyullSj6vqT1"
      },
      "source": [
        "### Solution\n",
        "\n",
        "One can see that the error bar decreases as $\\sigma_0 / \\sqrt{N}$, where\n",
        "$\\sigma_0 = \\sqrt{4\\pi-\\pi^2}$ is the standard deviation for a single sample.\n",
        "This is basically nothing but an expression of the central limit theorem."
      ]
    },
    {
      "cell_type": "code",
      "execution_count": 3,
      "metadata": {
        "id": "69okMr4IvqT3"
      },
      "outputs": [
        {
          "data": {
            "text/plain": [
              "<matplotlib.legend.Legend at 0x7f86096d6a00>"
            ]
          },
          "execution_count": 3,
          "metadata": {},
          "output_type": "execute_result"
        },
        {
          "data": {
            "image/png": "[encoded data removed]",
            "text/plain": [
              "<Figure size 432x288 with 1 Axes>"
            ]
          },
          "metadata": {
            "needs_background": "light"
          },
          "output_type": "display_data"
        }
      ],
      "source": [
        "n_orders = 6\n",
        "n_pts, error_bar = np.zeros(n_orders), np.zeros(n_orders)\n",
        "n_samples = 100\n",
        "\n",
        "# loop over n_orders orders of magnitude\n",
        "for p in range(n_orders):\n",
        "    \n",
        "    N = np.power(10, p)    # number of points used to sample pi\n",
        "    pi_estimates = np.zeros(n_samples)\n",
        "    \n",
        "    # compute pi estimates\n",
        "    for i in range(n_samples):\n",
        "        pi_estimates[i] = pi_uniform(N)\n",
        "\n",
        "    n_pts[p] = N\n",
        "    error_bar[p] = np.std(pi_estimates) # np.std computes the standard deviation\n",
        "\n",
        "plt.loglog(n_pts, error_bar, '-o', lw=2, label='error bar')\n",
        "plt.loglog(n_pts, np.sqrt(4*np.pi-np.pi**2)/np.sqrt(n_pts), 'r--', lw=2, label=r'$\\sqrt{4\\pi-\\pi^2} / \\sqrt{N}$')\n",
        "plt.title(\"Error bar on $\\pi$\", fontsize=20)\n",
        "plt.xlabel('$N$', fontsize=18)\n",
        "plt.ylabel(r'$\\sigma$', fontsize=18)\n",
        "plt.grid()\n",
        "plt.xlim(0.5, 2e5)\n",
        "plt.legend()"
      ]
    },
    {
      "cell_type": "markdown",
      "metadata": {
        "id": "5R9dZqmLTNET"
      },
      "source": [
        "## Markov chain algorithm\n",
        "\n",
        "Direct sampling is in general very difficult to achieve. Even though it is easy for our\n",
        "example to calculate $\\pi$, let us pretend that we do not know how to do direct sampling.\n",
        "We then need the more general strategy of a Markov chain algorithm. As you saw in the\n",
        "lecture, the idea is to let a \"walker\" evolve over the surface of the square. At every\n",
        "step the walker moves within a square $[-\\delta, \\delta]^2$ around its position, where\n",
        "$\\delta$ is a chosen maximal displacement length. If the displacement\n",
        "would bring the walker out of the square, then we let the walker where it was and do not\n",
        "move it. One of the questions we will try to answer is how we should choose the\n",
        "parameter $\\delta$."
      ]
    },
    {
      "cell_type": "markdown",
      "metadata": {
        "id": "PVLxWk1evqT6"
      },
      "source": [
        "### Statistical evaluation of $\\pi$\n",
        "\n",
        "Write a function that evaluates $\\pi$ using a walker that will make a\n",
        "total of $N$ steps."
      ]
    },
    {
      "cell_type": "markdown",
      "metadata": {
        "id": "t0LT_5gUvqT6"
      },
      "source": [
        "### Solution"
      ]
    },
    {
      "cell_type": "code",
      "execution_count": 4,
      "metadata": {
        "id": "_wWFSFzBQVeK"
      },
      "outputs": [
        {
          "data": {
            "text/plain": [
              "3.18508"
            ]
          },
          "execution_count": 4,
          "metadata": {},
          "output_type": "execute_result"
        }
      ],
      "source": [
        "def pi_markov(N, delta):\n",
        "    \n",
        "    n_inside = 0\n",
        "    walker = np.random.uniform(-1, 1, size=2)\n",
        "    for i in range(N):\n",
        "        shift = np.random.uniform(-delta, delta, size=2)\n",
        "        new_walker = walker + shift\n",
        "        if np.all(np.abs(new_walker) < 1): # we are inside the square\n",
        "            walker = new_walker\n",
        "        if np.linalg.norm(walker) < 1: # we are inside the circle\n",
        "            n_inside += 1\n",
        "            \n",
        "    return 4 * n_inside / N\n",
        "\n",
        "pi_markov(100000, 0.2)"
      ]
    },
    {
      "cell_type": "markdown",
      "metadata": {
        "id": "49UVeNOGvqT8"
      },
      "source": [
        "### Acceptance rate\n",
        "\n",
        "We will be interested in how the algorithm performs for different values of $\\delta$.\n",
        "An important ingredient in that respect is the \"acceptance rate\". This is the fraction\n",
        "of proposed moves that have led to a change of position of the walker (that have been accepted).\n",
        "Modify your function so that it also computes and returns the acceptance rate.\n",
        "How do you expect the acceptance rate to depend on $\\delta$?"
      ]
    },
    {
      "cell_type": "markdown",
      "metadata": {
        "id": "bbYN7qFgvqT8"
      },
      "source": [
        "### Solution\n",
        "\n",
        "This is a minor change of the previous code. By changing $\\delta$ it clearly appears that the\n",
        "acceptance rate has a tendency to diminish if $\\delta$ is increased."
      ]
    },
    {
      "cell_type": "code",
      "execution_count": 5,
      "metadata": {
        "id": "oRlvAJ2lX2Jk"
      },
      "outputs": [
        {
          "data": {
            "text/plain": [
              "(3.3108, 0.9543)"
            ]
          },
          "execution_count": 5,
          "metadata": {},
          "output_type": "execute_result"
        }
      ],
      "source": [
        "def pi_markov(N, delta):\n",
        "    \n",
        "    n_inside = 0\n",
        "    n_accepted = 0\n",
        "    walker = np.random.uniform(-1, 1, size=2)\n",
        "    for i in range(N):\n",
        "        shift = np.random.uniform(-delta, delta, size=2)\n",
        "        new_walker = walker + shift\n",
        "        if np.all(np.abs(new_walker) < 1): # we are inside the square\n",
        "            walker = new_walker\n",
        "            n_accepted += 1\n",
        "        if np.linalg.norm(walker) < 1: # we are inside the circle\n",
        "            n_inside += 1\n",
        "            \n",
        "    return 4 * n_inside / N, n_accepted / N\n",
        "\n",
        "pi_markov(10000, 0.1)"
      ]
    },
    {
      "cell_type": "markdown",
      "metadata": {
        "id": "3sNCzhVHvqT9"
      },
      "source": [
        "### Statistical error bars\n",
        "\n",
        "Using the Markov chain algorithm, both the estimate for $\\pi$ and the acceptance rate\n",
        "have a statistical variance. It is interesting to study the standard deviation\n",
        "(error bar) on these quantities. Write a new function that uses 200 samples to\n",
        "estimate the standard deviation on the estimate for $\\pi$ and on the\n",
        "acceptance rate. Ideally, the function could return 4 numbers: the estimate\n",
        "for pi, its standard deviation, the estimate of the acceptance rate, its\n",
        "standard deviation. Remeber that because of the central limit theorem,\n",
        "your error bar will be the standard deviation of your samples divided\n",
        "by $\\sqrt{N_\\mathrm{samples}}$, i.e.\n",
        "\n",
        "$$\n",
        " \\sigma = \\frac{1}{\\sqrt{N_\\mathrm{samples}}} \\big[ \\langle \\mathcal{O}^2\\rangle\n",
        " - \\langle \\mathcal{O} \\rangle^2 \\big]\n",
        "$$"
      ]
    },
    {
      "cell_type": "markdown",
      "metadata": {
        "id": "NntTX_K6vqT-"
      },
      "source": [
        "### Solution"
      ]
    },
    {
      "cell_type": "code",
      "execution_count": 6,
      "metadata": {
        "id": "oEoeqwuUvqT-"
      },
      "outputs": [
        {
          "data": {
            "text/plain": [
              "(3.1532, 0.04475990169783664, 0.9077999999999997, 0.004132892449604755)"
            ]
          },
          "execution_count": 6,
          "metadata": {},
          "output_type": "execute_result"
        }
      ],
      "source": [
        "def pi_markov_std(N, delta):\n",
        "    \n",
        "    n_samples = 200\n",
        "    estimates = np.zeros([n_samples, 2])\n",
        "\n",
        "    # compute n_samples estimates\n",
        "    for i in range(n_samples):\n",
        "        estimates[i,:] = pi_markov(N, delta)\n",
        "        \n",
        "    av = np.average(estimates, axis=0)\n",
        "    err = np.std(estimates, axis=0) / np.sqrt(n_samples)\n",
        "    return av[0], err[0], av[1], err[1]\n",
        "\n",
        "pi_markov_std(100, 0.2)"
      ]
    },
    {
      "cell_type": "markdown",
      "metadata": {
        "id": "ek0QNxllvqT_"
      },
      "source": [
        "### Dependence on $\\delta$\n",
        "\n",
        "We are now in a position to investigate how the results depend on $\\delta$.\n",
        "Create and discuss the three following plots:\n",
        "\n",
        "   * The estimate of $\\pi$ versus $\\delta$ (with error bars)\n",
        "   * The acceptance rate versus $\\delta$ (with error bars)\n",
        "   * The error bar for $\\pi$ versus $\\delta$\n",
        "   \n",
        "The runs will start to take some time. So you may want to only take about\n",
        "$N=100$ steps for the walker. You can investigate values of $\\delta \\in [0,4]$.\n",
        "By looking at the behavior of the error bars, what can you say about the\n",
        "optimal value that should be taken for $\\delta$?"
      ]
    },
    {
      "cell_type": "markdown",
      "metadata": {
        "id": "T_83JEMjvqT_"
      },
      "source": [
        "### Solution\n",
        "\n",
        "Let us first generate all the data and create the plots later."
      ]
    },
    {
      "cell_type": "code",
      "execution_count": 7,
      "metadata": {
        "id": "0fnBSZLSvqUA"
      },
      "outputs": [],
      "source": [
        "N = 100\n",
        "deltar = np.linspace(0, 4, 20)\n",
        "pi_av = np.zeros_like(deltar)\n",
        "pi_err = np.zeros_like(deltar)\n",
        "acc_av = np.zeros_like(deltar)\n",
        "acc_err = np.zeros_like(deltar)\n",
        "\n",
        "# this may take a bit of time\n",
        "for i, delta in enumerate(deltar):\n",
        "    pi_av[i], pi_err[i], acc_av[i], acc_err[i] = pi_markov_std(N, delta)"
      ]
    },
    {
      "cell_type": "markdown",
      "metadata": {
        "id": "mrdeeC9RvqUA"
      },
      "source": [
        "Inspecting the three plots we can draw the following conclusions:\n",
        "\n",
        "   * We can see that the estimates for $\\pi$ are all correct within error bars.\n",
        "     The algorithm therefore provides statistically correct results for any choice\n",
        "     of $\\delta$. However, it is already apparent on the first plot that some\n",
        "     values of $\\delta$ seem to yield better statistical variance.\n",
        "   * The acceptance rate gradually decreases with increasing $\\delta$. This is\n",
        "     not surprising. Also, the error bar on the acceptance rate is very small.\n",
        "   * The error bar for $\\pi$ clearly has a minimum versus $\\delta$ as can be\n",
        "     seen in the third plot. The location of the minimum (even if it is quite broad)\n",
        "     is compatible with an acceptance rate close to 0.5.\n",
        "     \n",
        "These results are compatible with the **Thumb rule** that states that one should\n",
        "chose the parameters in a Markov chain Monte Carlo in a way that the acceptance\n",
        "rate is close to 0.5."
      ]
    },
    {
      "cell_type": "code",
      "execution_count": 8,
      "metadata": {
        "id": "n8KirKhJvqUB"
      },
      "outputs": [
        {
          "data": {
            "text/plain": [
              "Text(0, 0.5, '$\\\\sigma$')"
            ]
          },
          "execution_count": 8,
          "metadata": {},
          "output_type": "execute_result"
        },
        {
          "data": {
            "image/png": "[encoded data removed]",
            "text/plain": [
              "<Figure size 576x1440 with 3 Axes>"
            ]
          },
          "metadata": {
            "needs_background": "light"
          },
          "output_type": "display_data"
        }
      ],
      "source": [
        "fig, ax = plt.subplots(3, 1, figsize=(8,20))\n",
        "\n",
        "ax[0].errorbar(deltar, pi_av, yerr=pi_err)\n",
        "ax[0].plot(deltar, np.pi * np.ones_like(deltar), '--')\n",
        "ax[0].set_title(\"Estimate of $\\pi$\", fontsize=20)\n",
        "ax[0].set_xlabel(\"$\\delta$\", fontsize=18)\n",
        "ax[0].set_ylabel(r\"$\\langle \\pi \\rangle$\", fontsize=18)\n",
        "\n",
        "ax[1].errorbar(deltar, acc_av, yerr=acc_err)\n",
        "ax[1].set_title(\"Acceptance rate\", fontsize=20)\n",
        "ax[1].set_xlabel(\"$\\delta$\", fontsize=18)\n",
        "ax[1].set_ylabel(r\"$\\langle \\mathrm{acc} \\rangle$\", fontsize=18)\n",
        "\n",
        "\n",
        "ax[2].plot(deltar, pi_err, '-o')\n",
        "ax[2].set_title(\"Error bar for $\\pi$\", fontsize=20)\n",
        "ax[2].set_xlabel(\"$\\delta$\", fontsize=18)\n",
        "ax[2].set_ylabel(r\"$\\sigma$\", fontsize=18)\n"
      ]
    },
    {
      "cell_type": "markdown",
      "metadata": {
        "id": "hMc_JwQTvqUC"
      },
      "source": [
        "### Optimal $\\delta$ from the Thumb rule\n",
        "\n",
        "We have now seen that the smallest statistical error bars are obtained when the acceptance\n",
        "rate is close to 0.5. Use a bisection algorithm that will find a value of $\\delta$ yielding\n",
        "an acceptance rate in $[0.45, 0.55]$. Do not reinvent the wheel, you can use the `scipy` library\n",
        "to do this:\n",
        "```python\n",
        "import scipy.optimize\n",
        "scipy.optimize.bisect(f, a, b, xtol=0.05)\n",
        "```\n",
        "This function will find a zero of the function `f` between `a` and `b` with a tolerance\n",
        "`xtol`."
      ]
    },
    {
      "cell_type": "markdown",
      "metadata": {
        "id": "_TcbL-CgvqUD"
      },
      "source": [
        "### Solution\n"
      ]
    },
    {
      "cell_type": "code",
      "execution_count": 9,
      "metadata": {
        "id": "UNTlXAVmvqUD"
      },
      "outputs": [
        {
          "name": "stdout",
          "output_type": "stream",
          "text": [
            "Optimal delta =  1.15625\n",
            "Final result =  (3.1693999999999996, 0.02442290318532996, 0.5006999999999998, 0.004144580799067622)\n"
          ]
        }
      ],
      "source": [
        "import scipy.optimize\n",
        "\n",
        "N = 100\n",
        "def f(delta):\n",
        "    return pi_markov_std(N, delta)[2] - 0.5\n",
        "\n",
        "optimal_delta = scipy.optimize.bisect(f, 0, 4, xtol=0.05)\n",
        "print(\"Optimal delta = \", optimal_delta)\n",
        "\n",
        "# Get final result from optimal delta\n",
        "print(\"Final result = \", pi_markov_std(N, optimal_delta))"
      ]
    },
    {
      "cell_type": "code",
      "execution_count": null,
      "metadata": {
        "id": "bNQPyPm5vqUD"
      },
      "outputs": [],
      "source": []
    }
  ],
  "metadata": {
    "colab": {
      "collapsed_sections": [],
      "provenance": []
    },
    "kernelspec": {
      "display_name": "Python 3.9.7 ('base')",
      "language": "python",
      "name": "python3"
    },
    "language_info": {
      "codemirror_mode": {
        "name": "ipython",
        "version": 3
      },
      "file_extension": ".py",
      "mimetype": "text/x-python",
      "name": "python",
      "nbconvert_exporter": "python",
      "pygments_lexer": "ipython3",
      "version": "3.9.7"
    },
    "vscode": {
      "interpreter": {
        "hash": "3cc6e0ac1b86c4c951d966564e11dad34f77a6fd97090ff5a8f97422f57adefa"
      }
    }
  },
  "nbformat": 4,
  "nbformat_minor": 0
}
