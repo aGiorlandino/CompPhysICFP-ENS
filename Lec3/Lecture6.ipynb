{
  "cells": [
    {
      "cell_type": "markdown",
      "metadata": {
        "id": "whq325vjPYnR"
      },
      "source": [
        "# <center> Lecture 6: Importance Sampling</center>\n",
        "\n",
        "Let's start with a simple problem. Consider a Gaussian distribution\n",
        "$$p(x)=\\frac{1}{\\sqrt{2 \\pi}}e^{-\\frac{(x-c)^2}{2}} $$\n",
        "with $c=20$ and compute the probability that $x$ is negative. Using your favourite integration method you will find that\n",
        "$$ \\text{Proba}(x<0)=\\int_{-\\infty}^0 d x p(x) \\sim 2.75\\cdot 10^{-89} $$\n",
        "Is it  possible to compute this integral using stochastic methods which, at variance of the deterministic ones, can be generalized in high dimensions?\n",
        "\n",
        "\n",
        "\n",
        "### Rari nantes in gurgite vasto\n",
        "\n",
        "A very bad strategy is the direct sampling of $x_1, x_2, \\ldots, x_{N_{\\text{trials}}}$ as for each example $x_i$ the observable is either one (if $x_i<0$) either zero (if $x_i>0$). The $ \\text{Proba}(x<20)$ is a very small number determined by the tiny fraction of 1 (\"rari nantes\") appearing in a large sea of zeros. In these conditions the fluctuations of the observable $O_i$ are extremly large compare to mean value. \n",
        "\n",
        "* To get a feeling compute the $N_{\\text trials}$ you need in order to compute the integral with a $1 \\%$ precision. This calculation shows that the standard deviation associated to the observable (i.e. the probability to observe a negative $x$)  is very large compared to the mean value. \n",
        "\n",
        "This sittuation is quite general and occurs when typical examples provide a modest contribution to the  observable that is totally determined by some rare, yet important, example. In these cases we have hard time with Monte Caro methods and even our favorite direct sampling can fail miserably.\n",
        "\n",
        "\n",
        "\n",
        "## Importance sampling strategy\n",
        "\n",
        "To succeed in our numerical problem we need to bias our sampling and propose the important configurations for the observable and not the typical ones. This idea is called importance sampling and is based on this equation.\n",
        "\n",
        "$$ \\langle O \\rangle_p = \\int d x p(x) O(x) =\\int d x q(x) \\frac{p(x)}{q(x)}  O(x)= \\langle w(x) O(x)\\rangle_q$$\n",
        "\n",
        "Here we should define two objects: (i) the bias $q(x)$ that is the distribution that we use in our Monte Carlo (ii) the weight $w(x)=p(x)/q(x)$ which tell us how to re-weight the observable in order to compensate the bias. \n",
        "\n",
        "The final goal is that our estimation\n",
        "$$ \\langle O \\rangle_p \\approx \\frac{1}{N_{\\text{trials}}}\\, \\sum_{i=1}^{N_{\\text{trials}}} O(x_i) w(x_i) \\quad \\text{ with $x_i$ drawn from $q(x)$}$$\n",
        "is more accurate then the one obtained by direct sampling of $p(x)$.\n",
        "\n",
        "\n",
        "\n",
        "## Exponential tilting\n",
        "\n",
        "A particular and useful class of bias are the exponential tilting defined by\n",
        "$$q(x)=\\frac{e^{t x}}{\\langle e^{t x}\\rangle_p} p(x) \\quad \\text{and} \\quad w(x)=e^{-t x}\\langle e^{t x}\\rangle_p  $$\n",
        "Note that \n",
        "* the normalization constant $\\langle e^{t x}\\rangle_p$ is the moment generating function of $p(x)$. For our problem we have:\n",
        "$$ \\langle e^{tx}\\rangle_p= e^{c t +t^2/2}$$\n",
        "*$t$ is the adjustable parameter\n",
        "\n",
        " * Compute $q(x)$ and $w(x)$ using exponential tilting\n",
        "$$q(x)= \\frac{1}{\\sqrt{2 \\pi}} e^{-(x-(c+t))^2/2}$$\n",
        "$$w(x)= e^{(c-x)t + t^2/2} $$\n",
        " * write a program to compute the probability"
      ]
    },
    {
      "cell_type": "code",
      "execution_count": 5,
      "metadata": {
        "colab": {
          "base_uri": "https://localhost:8080/"
        },
        "id": "9naRHq_nPYnV",
        "outputId": "11bdedd1-6f6a-4431-f45e-7af23192892d"
      },
      "outputs": [
        {
          "name": "stdout",
          "output_type": "stream",
          "text": [
            "simulation 2.523713119419408e-89 +/- 3.5996237626863882e-90\n"
          ]
        }
      ],
      "source": [
        "import random,math,numpy\n",
        "c = 20\n",
        "t = -18\n",
        "Ntrials=10000\n",
        "xsum=[]\n",
        "for i in range(Ntrials):\n",
        "    dx = random.gauss(c+t,1.)\n",
        "    if dx < 0:\n",
        "        num  = (c-dx)*t + t**2/2\n",
        "        x= math.exp(num)\n",
        "    else:\n",
        "        x=0\n",
        "    xsum.append(x)\n",
        "xerror = numpy.std(numpy.array(xsum))\n",
        "xm = numpy.mean(numpy.array(xsum))\n",
        "print ('simulation', xm,'+/-', xerror/float(Ntrials)**0.5)"
      ]
    },
    {
      "cell_type": "markdown",
      "metadata": {
        "id": "qGiN4kPBPYnb"
      },
      "source": [
        "## Two applications for importance sampling\n",
        "\n",
        "### Application 1: Risk evaluation (to do if you  have time)  \n",
        "\n",
        "Let us consider an insurance company starting with some initial capital $b$. The business earns money due to the premiums, but has to face claims. Premiums arrive at constant rate, while claims arrive at random times with random magnitudo. If at any time $t>0$ the surplus level becomes negative, the company fails. Is it possible to evaluate the probability $P(b)$ that company goes bankrupt? \n",
        "Modern risk theory goes back to the works of Filip Lundberg and Harald Cramér. They developed quantitative approaches to evaluate the ruin probability. Here we consider a variant of the original model where the surplus level is a random walk evolving at discrete time $\\tau=0,1,2,\\ldots$. \n",
        "\n",
        "We call $x(\\tau)$ the surplus level at time $\\tau$. We know that $x(0)=b$ and suppose the following evolution:\n",
        "\n",
        "$$ x(\\tau)=x(\\tau-1) +\\xi_\\tau$$\n",
        "\n",
        "Here $\\xi_1,\\xi_2, \\ldots, \\xi_\\tau$ are iid Gaussian random numbers with\n",
        "\n",
        "$$ \\langle \\xi_i\\rangle =c,\\quad \\quad \\langle \\left(\\xi_i-c \\right)^2\\rangle=1 \\quad \\text{for} \\; i=1,2,\\ldots$$\n",
        "\n",
        "The company has a potential success only if $c>0$, but this is not sufficient to prevent bankrupt.\n",
        "\n",
        "How can we evaluate numerically the ruin probability $P(b)$ given $c$? \n",
        "\n",
        " We have to face two problems:\n",
        "\n",
        "(i) It is difficult to estimate the maximal time after which the fate of the insurance company should be considered as safe \n",
        " \n",
        "(ii) More importantly, for each example (i.e. each random walk) the observable is one if the path overcomes the origin and zero if it stays above. Then, for large values of b, the ruin probability is a very small number determined by the tiny fraction of 1 (the \"rari nantes\") appears in a \"large sea\" of zeros. In these conditions, direct sampling does not provide an accurate estimation of $P(b)$.\n",
        "\n",
        "This problem can be solved using  the exponential tilting introduced for a single Gaussian varialble. In this problem each example is random walk and it is fully defined by the sequance of jumps. The probability of a random walk of $N$ steps is then \n",
        "$$ p(\\{\\xi_1,\\xi_2,\\ldots,\\xi_N\\}) = \\prod_{i=1}^N \\left(\\frac{1}{\\sqrt{2 \\pi}} e^{-(\\xi_i-c)^2/2}\\right)$$\n",
        "\n",
        "The hint  Introduce an exponential tilt $\\exp(𝑡  \\xi_i)$ for all $𝑖=1,…,𝑁$. By computing $q(\\{\\xi_1,\\xi_2,\\ldots,\\xi_N\\})$ you realize the $t=-2c$ is the better choice (not so simple). Sampling the jumps using this prescription allows you to give a very precise estimation of $P(b)$\n",
        "\n",
        "\n",
        "\n",
        "\n",
        "### Application 2:  Fat tails \n",
        " \n",
        "We already considered the Pareto distribution\n",
        "$$ \\pi(\\xi) = \\frac{\\alpha}{\\xi^{\\alpha+1}}\\qquad \\alpha \\in (0,\\infty).\\qquad \\langle{\\xi}\\rangle = \\frac{\\alpha}{\\alpha-1}  \\qquad \\alpha \\in (1,\\infty)$$\n",
        "\n",
        "We study here the case $\\alpha=3/2$ and our goal is to estimate the average $\\langle \\xi\\rangle =3$. In the program below we plot  the running average \n",
        "\n"
      ]
    },
    {
      "cell_type": "code",
      "execution_count": 2,
      "metadata": {
        "colab": {
          "base_uri": "https://localhost:8080/",
          "height": 292
        },
        "id": "EA7lADTAPYnc",
        "outputId": "6ae23342-ec74-4f15-e3f8-c3996c10e320"
      },
      "outputs": [
        {
          "data": {
            "image/png": "[encoded data removed]",
            "text/plain": [
              "<Figure size 432x288 with 1 Axes>"
            ]
          },
          "metadata": {
            "needs_background": "light"
          },
          "output_type": "display_data"
        }
      ],
      "source": [
        "import numpy as np\n",
        "import math\n",
        "import matplotlib.pyplot as plt\n",
        "Ntrials = 1000000\n",
        "alpha = 1.5\n",
        "xmeanexact = alpha / (alpha - 1.)\n",
        "xi = np.random.uniform(0,1,Ntrials)**(-1./alpha)\n",
        "xisum = np.cumsum(xi)\n",
        "run = np.arange(1,Ntrials+1)\n",
        "xicontrol = np.divide(xisum,run)\n",
        "plt.xticks(fontsize=12)\n",
        "plt.yticks(fontsize=12)\n",
        "plt.ylabel('Running average', fontsize=15)\n",
        "plt.xlabel('Run', fontsize=15)\n",
        "plt.ylim(xmeanexact-0.2, xmeanexact +0.2)\n",
        "plt.plot(run,xicontrol, '-r')\n",
        "plt.show()"
      ]
    },
    {
      "cell_type": "markdown",
      "metadata": {
        "id": "t3Xlao0j-KS1"
      },
      "source": [
        "Let's solve this problem using importance sampling. We are evaluating the integral\n",
        "$$ \\langle \\xi\\rangle = \\int_1^\\infty d \\xi \\, \\xi\\, \\frac{3/2}{ \\xi^{5/2}} $$\n",
        "but the variance diverges... Indeed\n",
        "$$  \\int_1^\\infty d \\xi \\, \\xi^2\\, \\frac{3/2}{ \\xi^{5/2}}=\\infty $$\n",
        "To solve this problem we should use bias $q(x) = \\alpha_1/x^{\\alpha_1+1}$ which re-weight the observale\n",
        " $$ O(\\xi) w(\\xi)= O(\\xi) p(\\xi)/q(\\xi)= \\xi \\times \\frac{3}{2 \\alpha_1} \\frac{\\xi^{\\alpha_1}}{\\xi^{3/2}} \\sim \\xi^\\beta$$\n",
        " with $\\beta=\\alpha_1-1/2$. The variance exists if \n",
        "$$-2 \\beta +\\alpha_1+1>1$$  \n",
        "\n",
        "Let's try $\\alpha_1=3/4$."
      ]
    },
    {
      "cell_type": "code",
      "execution_count": 3,
      "metadata": {
        "colab": {
          "base_uri": "https://localhost:8080/",
          "height": 292
        },
        "id": "dHZSLbNa6JXd",
        "outputId": "e5e91694-f7b7-42c3-c38a-ff1407afef8d"
      },
      "outputs": [
        {
          "data": {
            "image/png": "[encoded data removed]",
            "text/plain": [
              "<Figure size 432x288 with 1 Axes>"
            ]
          },
          "metadata": {
            "needs_background": "light"
          },
          "output_type": "display_data"
        }
      ],
      "source": [
        "import numpy as np\n",
        "import math\n",
        "import matplotlib.pyplot as plt\n",
        "Ntrials = 100000\n",
        "alpha=3./2.\n",
        "alpha1 = 3./4.\n",
        "xcst=alpha/alpha1\n",
        "xexp=1+alpha1-alpha\n",
        "xmeanexact = alpha / (alpha - 1.)\n",
        "xi = np.random.uniform(0,1,Ntrials)**(-1./alpha1)\n",
        "xireweight=xcst*(xi**xexp)\n",
        "xisum = np.cumsum(xireweight)\n",
        "run = np.arange(1,Ntrials+1)\n",
        "xicontrol = np.divide(xisum,run)\n",
        "plt.xticks(fontsize=12)\n",
        "plt.yticks(fontsize=12)\n",
        "plt.ylabel('Running average', fontsize=15)\n",
        "plt.xlabel('Run', fontsize=15)\n",
        "plt.ylim(xmeanexact-0.2, xmeanexact +0.2)\n",
        "plt.plot(run,xicontrol, '-r')\n",
        "plt.show()"
      ]
    },
    {
      "cell_type": "markdown",
      "metadata": {
        "id": "KbqfvVthc5Sr"
      },
      "source": []
    },
    {
      "cell_type": "markdown",
      "metadata": {
        "id": "5ZEUgY8Gc5bI"
      },
      "source": [
        "## Self-normalized importance sampling\n",
        "\n",
        "Sometimes instead the normalization is unkown and one use weights instead of probabilities. For example:\n",
        "$$\\langle O \\rangle_p =\\frac{\\int d x O(x) p(x)}{\\int d x p(x)}$$\n",
        "In this case revious equations can be simply generalized\n",
        "$$ \\langle O \\rangle_p  = \\frac{\\int d x q(x) \\frac{p(x)}{q(x)}  O(x)}{\\int d x q(x) \\frac{p(x)}{q(x)} }= \\frac {\\langle w(x) O(x)\\rangle_q}{\\langle w(x)\\rangle_q}$$\n",
        "\n",
        "Again, the final goal is that our estimation\n",
        "$$ \\langle O \\rangle_p \\approx \\, \\frac{\\sum_{i=1}^{N_{\\text{trials}}} O(x_i) w(x_i)}{\\sum_{i=1}^{N_{\\text{trials}}}  w(x_i)} \\quad \\text{ with $x_i$ drawn from $q(x)$}$$\n",
        "is more accurate then the one obtained by direct sampling of $p(x)$.\n",
        "\n",
        "### Extreme random walks\n",
        "Consider a symmetric random walk of $N=100$ steps. Each step is positive or negative with probability 1/2 and is drawn from a Pareto distribution with $\\alpha=4$. The jumps have then \n",
        "$$\\langle \\xi\\rangle =0 \\quad \\langle \\xi^2 \\rangle = 2$$\n",
        "and the final position is\n",
        "$$x_N=\\sum_{i=1}^N \\xi_i$$\n",
        "\n",
        "The central limit theorem states that \n",
        "$$P(x_N)\\approx \\frac{1}{\\sqrt{2 \\pi \\langle \\xi^2 \\rangle }} \\exp\\left( -\\frac{x_N^2}{2 \\langle \\xi^2 \\rangle N} \\right)$$\n",
        "\n",
        "However we observe strong deviation when $x_N$ is large. How can we sample the examples characterized by a very large value of $x_N$?\n"
      ]
    },
    {
      "cell_type": "code",
      "execution_count": 9,
      "metadata": {
        "colab": {
          "base_uri": "https://localhost:8080/",
          "height": 287
        },
        "id": "azD8TBsaIfCM",
        "outputId": "6de80e36-856a-480d-99ea-39d664940652"
      },
      "outputs": [
        {
          "data": {
            "image/png": "[encoded data removed]",
            "text/plain": [
              "<Figure size 432x288 with 1 Axes>"
            ]
          },
          "metadata": {
            "needs_background": "light"
          },
          "output_type": "display_data"
        }
      ],
      "source": [
        "import numpy as np\n",
        "import math\n",
        "import matplotlib.pyplot as plt\n",
        "N_trials = 10000000\n",
        "alpha = 4\n",
        "N=100\n",
        "all_pos = []\n",
        "for sample in range(N_trials):\n",
        "    xi = np.random.choice((-1, 1), N)*np.random.uniform(0,1,N)**(-1./alpha)\n",
        "    xisum = np.sum(xi)\n",
        "    all_pos.append(xisum)\n",
        "p_gauss = lambda v: np.exp(-v**2/4/N)/np.sqrt(4*N*np.pi)\n",
        "v_plot = np.linspace(-N, N)\n",
        "plt.yscale('log')\n",
        "plt.hist(all_pos, bins=range(-100,100,1), density=True, facecolor='g', alpha=0.75)  \n",
        "plt.plot(v_plot, p_gauss(v_plot), label='Gauss')\n",
        "plt.xticks(fontsize=12)\n",
        "plt.yticks(fontsize=12)\n",
        "plt.ylabel('Histogram', fontsize=15)\n",
        "plt.xlabel('Final Position', fontsize=15)\n",
        "plt.show()\n"
      ]
    },
    {
      "cell_type": "markdown",
      "metadata": {
        "id": "daOKElA3vhRd"
      },
      "source": [
        "Using Metropolis we can bias the value of $x_N$ to be large. For example with the weight\n",
        "$$ q(x) \\propto p(x) \\times \\exp(\\beta x_N) $$"
      ]
    },
    {
      "cell_type": "code",
      "execution_count": 10,
      "metadata": {
        "colab": {
          "base_uri": "https://localhost:8080/",
          "height": 587
        },
        "id": "dt9jb9MhATzc",
        "outputId": "67a33709-645c-48ae-c269-17ea6a682224"
      },
      "outputs": [
        {
          "ename": "NameError",
          "evalue": "name 'xiexample1' is not defined",
          "output_type": "error",
          "traceback": [
            "\u001b[0;31m---------------------------------------------------------------------------\u001b[0m",
            "\u001b[0;31mNameError\u001b[0m                                 Traceback (most recent call last)",
            "\u001b[0;32m/var/folders/9j/p9y20_s14f7btwz8mkygmg7r0000gn/T/ipykernel_22914/1664138284.py\u001b[0m in \u001b[0;36m<module>\u001b[0;34m\u001b[0m\n\u001b[1;32m     29\u001b[0m     \u001b[0mall_pos\u001b[0m\u001b[0;34m.\u001b[0m\u001b[0mappend\u001b[0m\u001b[0;34m(\u001b[0m\u001b[0mxisum\u001b[0m\u001b[0;34m)\u001b[0m\u001b[0;34m\u001b[0m\u001b[0;34m\u001b[0m\u001b[0m\n\u001b[1;32m     30\u001b[0m \u001b[0mtime\u001b[0m \u001b[0;34m=\u001b[0m \u001b[0mnp\u001b[0m\u001b[0;34m.\u001b[0m\u001b[0marange\u001b[0m\u001b[0;34m(\u001b[0m\u001b[0;36m1\u001b[0m\u001b[0;34m,\u001b[0m\u001b[0mN\u001b[0m\u001b[0;34m+\u001b[0m\u001b[0;36m1\u001b[0m\u001b[0;34m)\u001b[0m\u001b[0;34m\u001b[0m\u001b[0;34m\u001b[0m\u001b[0m\n\u001b[0;32m---> 31\u001b[0;31m \u001b[0mplt\u001b[0m\u001b[0;34m.\u001b[0m\u001b[0mtitle\u001b[0m\u001b[0;34m(\u001b[0m\u001b[0;34m'Example with x_N= '\u001b[0m\u001b[0;34m+\u001b[0m\u001b[0mstr\u001b[0m\u001b[0;34m(\u001b[0m\u001b[0mround\u001b[0m\u001b[0;34m(\u001b[0m\u001b[0mxiexample1\u001b[0m\u001b[0;34m,\u001b[0m\u001b[0;36m2\u001b[0m\u001b[0;34m)\u001b[0m\u001b[0;34m)\u001b[0m\u001b[0;34m+\u001b[0m\u001b[0;34m''\u001b[0m\u001b[0;34m,\u001b[0m \u001b[0mfontsize\u001b[0m\u001b[0;34m=\u001b[0m\u001b[0;36m15\u001b[0m\u001b[0;34m)\u001b[0m\u001b[0;34m\u001b[0m\u001b[0;34m\u001b[0m\u001b[0m\n\u001b[0m\u001b[1;32m     32\u001b[0m \u001b[0mplt\u001b[0m\u001b[0;34m.\u001b[0m\u001b[0mylabel\u001b[0m\u001b[0;34m(\u001b[0m\u001b[0;34m'jumps'\u001b[0m\u001b[0;34m,\u001b[0m \u001b[0mfontsize\u001b[0m\u001b[0;34m=\u001b[0m\u001b[0;36m15\u001b[0m\u001b[0;34m)\u001b[0m\u001b[0;34m\u001b[0m\u001b[0;34m\u001b[0m\u001b[0m\n\u001b[1;32m     33\u001b[0m \u001b[0mplt\u001b[0m\u001b[0;34m.\u001b[0m\u001b[0mxlabel\u001b[0m\u001b[0;34m(\u001b[0m\u001b[0;34m'time'\u001b[0m\u001b[0;34m,\u001b[0m \u001b[0mfontsize\u001b[0m\u001b[0;34m=\u001b[0m\u001b[0;36m15\u001b[0m\u001b[0;34m)\u001b[0m\u001b[0;34m\u001b[0m\u001b[0;34m\u001b[0m\u001b[0m\n",
            "\u001b[0;31mNameError\u001b[0m: name 'xiexample1' is not defined"
          ]
        }
      ],
      "source": [
        "import numpy as np\n",
        "import math\n",
        "import matplotlib.pyplot as plt\n",
        "N_trials = 10000\n",
        "alpha = 4\n",
        "beta=0.3\n",
        "N=100\n",
        "pfrac=0.05\n",
        "all_pos = []\n",
        "xi = np.random.choice((-1, 1), N)*np.random.uniform(0,1,N)**(-1./alpha)\n",
        "xisum = np.sum(xi)\n",
        "xinew = np.copy(xi)\n",
        "#accept = [0 for i in range(N_trials)]\n",
        "for sample in range(N_trials):\n",
        "    for i in range(N):\n",
        "        if (np.random.uniform(0,1)<pfrac):\n",
        "           xinew[i] = np.random.choice((-1, 1))*np.random.uniform(0,1)**(-1./alpha) \n",
        "    xisumnew = np.sum(xinew)\n",
        "    xidiff=xisumnew-xisum\n",
        "    if (np.random.uniform(0,1)< np.exp(beta*xidiff)):\n",
        "        xi= np.copy(xinew)\n",
        "        xisum=xisumnew\n",
        "    if (xisum>60):\n",
        "       xiview1=np.array(xi)\n",
        "       xiexample1=xisum   \n",
        "    if  (xisum<20):\n",
        "       xiview2=np.array(xi)\n",
        "       xiexample2=xisum \n",
        "    all_pos.append(xisum)\n",
        "time = np.arange(1,N+1)\n",
        "plt.title('Example with x_N= '+str(round(xiexample1,2))+'', fontsize=15)\n",
        "plt.ylabel('jumps', fontsize=15)\n",
        "plt.xlabel('time', fontsize=15)\n",
        "plt.plot(time,xiview, '-r')\n",
        "plt.show()\n",
        "plt.title('Example with x_N= '+str(round(xiexample2,2))+'', fontsize=15)\n",
        "plt.ylabel('jumps', fontsize=15)\n",
        "plt.xlabel('time', fontsize=15)\n",
        "plt.plot(time,xiview2, '-b')\n",
        "plt.show()\n"
      ]
    },
    {
      "cell_type": "code",
      "execution_count": null,
      "metadata": {
        "id": "AW3GndGz0SCL"
      },
      "outputs": [],
      "source": []
    }
  ],
  "metadata": {
    "anaconda-cloud": {},
    "colab": {
      "provenance": []
    },
    "kernelspec": {
      "display_name": "Python 3.9.7 ('base')",
      "language": "python",
      "name": "python3"
    },
    "language_info": {
      "codemirror_mode": {
        "name": "ipython",
        "version": 3
      },
      "file_extension": ".py",
      "mimetype": "text/x-python",
      "name": "python",
      "nbconvert_exporter": "python",
      "pygments_lexer": "ipython3",
      "version": "3.9.7"
    },
    "vscode": {
      "interpreter": {
        "hash": "3cc6e0ac1b86c4c951d966564e11dad34f77a6fd97090ff5a8f97422f57adefa"
      }
    }
  },
  "nbformat": 4,
  "nbformat_minor": 0
}
