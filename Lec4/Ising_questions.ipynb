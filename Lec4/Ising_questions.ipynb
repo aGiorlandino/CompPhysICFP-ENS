{
  "cells": [
    {
      "cell_type": "markdown",
      "metadata": {
        "id": "7KdNRzpbtpW2"
      },
      "source": [
        "# The Ising model\n",
        "\n",
        "The Ising model describes a set of spins sitting on the sites\n",
        "of a given lattice. We will consider the **periodic** two-dimensional square\n",
        "lattice. The spin sitting on the site $j$ is described by\n",
        "a variable $\\sigma_j = \\pm 1$. The energy for\n",
        "a given configuration $\\{ \\sigma \\}$ of spins is\n",
        "\n",
        "$$\n",
        "E(\\{\\sigma\\}) = -J\\sum_{\\langle ij \\rangle} \\sigma_i \\sigma_j\n",
        "$$\n",
        "\n",
        "where $\\langle i j \\rangle$ indicates that $i$ and $j$ are\n",
        "neighbors on the lattice. In the following, we will consider the\n",
        "ferromagnetic case $J>0$ and use $J=1$ as our unit of energy.\n",
        "The Ising model has a phase transition at the critical temperature\n",
        "\n",
        "$$\n",
        "T_c = \\frac{2}{\\ln(1+\\sqrt{2})} = 2.269185\\ldots\n",
        "$$\n",
        "\n",
        "## Computing average values\n",
        "\n",
        "The general formula for the computation of the average value of a physical\n",
        "observable $O$ is\n",
        "\n",
        "$$\n",
        "\\langle O \\rangle=\\frac{1}{Z}\\sum_{\\{\\sigma\\}}O({\\{\\sigma\\}}) \\exp(-\\beta E(\\{\\sigma\\}))\n",
        "\\quad \\mathrm{with} \\quad\n",
        "Z = \\sum_{\\{\\sigma\\}} \\exp(-\\beta E(\\{\\sigma\\}))\n",
        "$$\n",
        "\n",
        "For instance the average total magnetization can be obtained from\n",
        "\n",
        "$$\n",
        "\\langle M \\rangle=\\frac{1}{Z}\\sum_{{\\{\\sigma\\}}} \\big[ \\sum_i \\sigma_i \\big] \\exp(-\\beta E(\\{\\sigma\\}))\n",
        "$$\n",
        "\n",
        "## Physical quantities of interest\n",
        "\n",
        "In this notebook, we will be interested in computing some physical observables in order to\n",
        "investigate the phase transition of the Ising model. The quantities are:\n",
        "\n",
        "- The average energy $\\langle E \\rangle$\n",
        "\n",
        "\n",
        "- The specific heat\n",
        "\n",
        "$$\n",
        "c_V=\\frac{1}{N} \\frac{\\partial \\langle E\\rangle}{\\partial T} =\\frac{\\beta^2}{N} \\big( \\langle E^2\\rangle -\\langle E \\rangle^2 \\big)\n",
        "$$\n",
        "\n",
        "\n",
        "- The average of the absolute value of the magnetization $\\langle | M | \\rangle$\n",
        "\n",
        "\n",
        "- The corresponding magnetic susceptibility\n",
        "\n",
        "$$\n",
        "\\chi = \\frac{\\beta}{N} \\big( \\langle M^2\\rangle-\\langle |M| \\rangle^2 \\big),\n",
        "$$\n",
        "\n",
        "The reason for using the absolute value of the magnetization rather than the\n",
        "magnetization itself is related to some limitations of Monte Carlo simulations on\n",
        "finite-size systems. Indeed, the system has a symmetry $\\{ \\sigma \\} \\to \\{ -\\sigma \\}$\n",
        "and therefore, on a finite system, a Monte Carlo simulation will visit these two\n",
        "configurations with the same probability, leading to $\\langle M \\rangle = 0$. This makes\n",
        "it difficult to extract useful information from the magnetization itself. Using the\n",
        "absolute value instead, finite-size effect do not have such a dramatic effect and\n",
        "one can prove that the critical exponents of this\n",
        "modified magnetic susceptibility are the same as the original ones."
      ]
    },
    {
      "cell_type": "markdown",
      "metadata": {
        "id": "9YnOSe5DxrlD"
      },
      "source": [
        "## Manipulating spin configurations\n",
        "\n",
        "The goal of this first part is to find an easy way to encode a given spin configuration,\n",
        "to visualize it and to compute some of its properties. But as always, let us first import\n",
        "the necessary libraries"
      ]
    },
    {
      "cell_type": "code",
      "execution_count": 1,
      "metadata": {
        "id": "4wqXUAl-ItT3"
      },
      "outputs": [],
      "source": [
        "import numpy as np\n",
        "import itertools as it\n",
        "import matplotlib.pylab as plt"
      ]
    },
    {
      "cell_type": "markdown",
      "metadata": {
        "id": "vTFDpzSXItT9"
      },
      "source": [
        "### Generation and visulization\n",
        "\n",
        "A possible way to encode a configuration is to use an $L \\times L$ numpy\n",
        "array. A random configuration can be obtained with\n",
        "```python\n",
        "L = 10\n",
        "spin_configuration = np.random.choice([-1,1], size=(L,L))\n",
        "```\n",
        "This configuration can then be easily displayed with `plt.matshow(spin_configuration)`.\n",
        "\n",
        "- Generate a random configuration and display it"
      ]
    },
    {
      "cell_type": "code",
      "execution_count": 4,
      "metadata": {
        "id": "TlLprh-hItT-"
      },
      "outputs": [
        {
          "data": {
            "text/plain": [
              "<matplotlib.image.AxesImage at 0x7f7c00a8eac0>"
            ]
          },
          "execution_count": 4,
          "metadata": {},
          "output_type": "execute_result"
        },
        {
          "data": {
            "image/png": "[encoded data removed]",
            "text/plain": [
              "<Figure size 288x288 with 1 Axes>"
            ]
          },
          "metadata": {
            "needs_background": "light"
          },
          "output_type": "display_data"
        }
      ],
      "source": [
        "L=10\n",
        "config= np.random.choice([-1,1], size=(L,L))\n",
        "plt.matshow(config)"
      ]
    },
    {
      "cell_type": "markdown",
      "metadata": {
        "id": "pA9ezhW8ItT_"
      },
      "source": [
        "### Energy and magnetization"
      ]
    },
    {
      "cell_type": "markdown",
      "metadata": {
        "id": "93BXtv4bE1FY"
      },
      "source": [
        "- Write two functions that compute the energy and the magnetization of a given\n",
        "  configuration. They can have a signature:\n",
        "  ```python\n",
        "  def compute_energy(config):\n",
        "      # ...\n",
        "      return energy\n",
        "    \n",
        "  def compute_magnetization(config):\n",
        "      # ...\n",
        "      return magnetization\n",
        "  ```\n",
        "  where `config` is the spin configuration given as a numpy array."
      ]
    },
    {
      "cell_type": "code",
      "execution_count": 14,
      "metadata": {
        "id": "b729PXzeItUC"
      },
      "outputs": [],
      "source": [
        "def compute_energy(config, L):\n",
        "    E=0; J=1\n",
        "    for i in range(np.shape(config)[0]):\n",
        "        for j in range(np.shape(config)[1]):\n",
        "            E+=-J*config[i][j]*(config[(i+1)%L][j]+config[i][(j+1)%L])\n",
        "    return E\n",
        "\n",
        "def compute_magnetization(config, L):\n",
        "    return np.sum(config)/L**2"
      ]
    },
    {
      "cell_type": "markdown",
      "metadata": {
        "id": "MmjeSrq0ItUD"
      },
      "source": [
        "- Test the two functions by inspecting a random $3 \\times 3$ configuration"
      ]
    },
    {
      "cell_type": "code",
      "execution_count": 15,
      "metadata": {
        "id": "bDugozl7ItUF",
        "scrolled": true
      },
      "outputs": [
        {
          "name": "stdout",
          "output_type": "stream",
          "text": [
            "6 0.1111111111111111\n"
          ]
        },
        {
          "data": {
            "image/png": "[encoded data removed]",
            "text/plain": [
              "<Figure size 288x288 with 1 Axes>"
            ]
          },
          "metadata": {
            "needs_background": "light"
          },
          "output_type": "display_data"
        }
      ],
      "source": [
        "L_toy=3\n",
        "conf_toy = np.random.choice([-1,1], size=(L_toy,L_toy))\n",
        "E_toy = compute_energy(conf_toy, L_toy)\n",
        "m_toy = compute_magnetization(conf_toy, L_toy)\n",
        "print(E_toy, m_toy)\n",
        "plt.matshow(conf_toy)\n",
        "plt.show()"
      ]
    },
    {
      "cell_type": "markdown",
      "metadata": {
        "id": "YIFbOPbyItUF"
      },
      "source": [
        "## Metropolis-Hastings algorithm with local spin flips\n",
        "\n",
        "In the following, we will investigate several Monte Carlo algorithms that allow to sample\n",
        "the spin configurations according to the Boltzmann distribution. They all satisfy the\n",
        "detailed balance, but use different strategies. Here we start with the Metropolis-Hastings algorithm.\n",
        "This algorithm follows these steps:\n",
        "\n",
        "- Pick a random spin on the lattice and propose a flip\n",
        "\n",
        "- Compute what would be the new Boltzmann weight $\\pi(\\mathrm{new})$ of the configuration\n",
        "\n",
        "- Accepts this proposed configuration with probability\n",
        "\n",
        "$$\n",
        "  p^\\mathrm{acc}_{\\mathrm{old} \\to \\mathrm{new}} =\n",
        "    \\min \\big( 1, \\frac{\\pi(\\mathrm{new})}{\\pi(\\mathrm{old})} \\big)\n",
        "$$\n",
        "\n",
        "- Note that in our case\n",
        "\n",
        "$$\n",
        "  \\frac{\\pi(\\mathrm{new})}{\\pi(\\mathrm{old})} = \\exp(-\\beta (E_\\mathrm{new} - E_\\mathrm{old}))\n",
        "  = \\exp(-\\beta \\Delta E)\n",
        "$$\n",
        "\n",
        "In order to obtain the energy difference $\\Delta E$ it is not necessary to recompute the full\n",
        "energy of the configuration, but only the modification due to the flip of the single spin."
      ]
    },
    {
      "cell_type": "markdown",
      "metadata": {
        "id": "zp_v3CB1ItUH"
      },
      "source": [
        "### Metropolis-Hasting moves\n",
        "\n",
        "- Write a function that will take a spin configuration and apply $L^2$ Metropolis-Hastings moves on it.\n",
        "This function can have this structure:\n",
        "\n",
        "```python\n",
        "    def metropolis(config, T):\n",
        "        \n",
        "        # propose L^2 modifications\n",
        "        L = config.shape[0]\n",
        "        for k in range(L**2):\n",
        "            \n",
        "            # pick a random site\n",
        "            i, j = np.random.randint(L, size=2)\n",
        "            \n",
        "            # compute the acceptance probability\n",
        "            # accept or reject the move\n",
        "            # ...\n",
        "```\n",
        "\n",
        "where `config` is the array with the spin configuration and `T` is the temperature.\n",
        "The reason for doing $L^2$ proposals in a row is an empirical way to disentangle\n",
        "the configuration before and after the Metropolis-Hastings move."
      ]
    },
    {
      "cell_type": "code",
      "execution_count": null,
      "metadata": {
        "id": "S0eJWeiRItUH"
      },
      "outputs": [],
      "source": [
        "    def metropolis(config, T):\n",
        "        \n",
        "        # propose L^2 modifications\n",
        "        L = config.shape[0]\n",
        "        for k in range(L**2):\n",
        "            # pick a random site\n",
        "            i, j = np.random.randint(L, size=2)\n",
        "            dE= -2*(config[(i+1)%L][j]+config[(i)%L][(j+1)%L]+config[(i-1)%L][j]+config[(i)%L][(j-1)%L])\n",
        "            Pacc= np.exp(dE)\n",
        "            if dE \n",
        "            # ..."
      ]
    },
    {
      "cell_type": "markdown",
      "metadata": {
        "id": "tnytZck3ItUI"
      },
      "source": [
        "### High versus low temperature behavior"
      ]
    },
    {
      "cell_type": "markdown",
      "metadata": {
        "id": "tbKzKtjWQIWO"
      },
      "source": [
        "- Starting from a random initial configuration, investigate how it evolves with successive\n",
        "  Metropolis-Hastings steps. Compare this evolution for a low temperature $T=0.5$ and a\n",
        "  high temperature $T=3$. You can use a lattice of size $50 \\times 50$."
      ]
    },
    {
      "cell_type": "code",
      "execution_count": null,
      "metadata": {
        "id": "mGkG9EwwItUV",
        "scrolled": false
      },
      "outputs": [],
      "source": []
    },
    {
      "cell_type": "markdown",
      "metadata": {
        "id": "QgKXID5vEdDA"
      },
      "source": [
        "### Compute physical observables\n",
        "\n",
        "- Write a function that will run a Monte Carlo simulation and compute the average value\n",
        "  of the 4 following observables normalized by the number of sites of the lattice\n",
        "  $N = L^2$\n",
        "  \n",
        "  1. The average energy $\\langle E \\rangle \\, / \\, N$\n",
        "  2. The specific heat $c_V \\, / \\, N$\n",
        "  3. The average absolute magnetization $\\langle | M | \\rangle \\, / \\, N$\n",
        "  4. The corresponding susceptibility $\\chi \\, / \\, N$\n",
        "  \n",
        "  The function can have the following signature:\n",
        "  ```python\n",
        "    def monte_carlo(L, T, n_steps):\n",
        "        # ...\n",
        "        return energy, magnetization, cv, chi\n",
        "  ```\n",
        "  where `L` is the linear size of the lattice, `T` the temperature and `n_steps` the number\n",
        "  of Monte Carlo steps."
      ]
    },
    {
      "cell_type": "code",
      "execution_count": null,
      "metadata": {
        "id": "9HoGG5YOItUW"
      },
      "outputs": [],
      "source": []
    },
    {
      "cell_type": "markdown",
      "metadata": {
        "id": "oLfPoSmOItUX"
      },
      "source": [
        "- Run a simulation for 10 temperatures in the range $[0.5, 4]$. Use a lattice of size $6 \\times 6$.\n",
        "  If you want reasonably accurate results, you should make at least 5000 Monte Carlo steps. Note\n",
        "  that at every Monte Carlo step there are $N = L^2$ proposals. Store the results in numpy arrays.\n",
        " "
      ]
    },
    {
      "cell_type": "code",
      "execution_count": null,
      "metadata": {
        "id": "ZF75K3qgItUX"
      },
      "outputs": [],
      "source": []
    },
    {
      "cell_type": "markdown",
      "metadata": {
        "id": "14IV18jxEYHR"
      },
      "source": [
        "- Make 4 plots of the absolute magnetization, the energy, the susceptibility and the specific heat as a function of temperature."
      ]
    },
    {
      "cell_type": "code",
      "execution_count": null,
      "metadata": {
        "id": "ZDBK405CItUY"
      },
      "outputs": [],
      "source": []
    },
    {
      "cell_type": "markdown",
      "metadata": {
        "id": "0vM0HJWojgoP"
      },
      "source": [
        "## Heat bath algorithm\n",
        "\n",
        "We now turn to the heat bath algorithm. The main difference with Metropolis-Hastings is that it is\n",
        "rejection-free. Every proposal will be accepted. It satisfies the detailed balance\n",
        "\n",
        "$$\n",
        "\\pi(a) p_{a \\to b} = \\pi(b) p_{b \\to a}\n",
        "$$\n",
        "\n",
        "The algorithm picks a random spin and chooses its next value according to\n",
        "\n",
        "$$\n",
        "\\pi_+ = \\frac{1}{1 + e^{-2 \\beta h}} \\qquad\n",
        "\\pi_- = \\frac{1}{1 + e^{2 \\beta h}} \\qquad\n",
        "h = \\sum_{i \\in \\text{neighbors of site}} \\sigma_i\n",
        "$$\n",
        "\n",
        "where $h$ is the molecular field felt by the chosen site."
      ]
    },
    {
      "cell_type": "markdown",
      "metadata": {
        "id": "6b2w1A82ItUZ"
      },
      "source": [
        "### Heat bath moves\n",
        "\n",
        "- Write a function that will take a spin configuration and apply $L^2$ heat bath moves on it.\n",
        "This function can have this structure:\n",
        "\n",
        "```python\n",
        "    def heat_bath(config, T):\n",
        "        \n",
        "        # make L^2 modifications\n",
        "        L = config.shape[0]\n",
        "        for k in range(L**2):\n",
        "            \n",
        "            # pick a random site\n",
        "            i, j = np.random.randint(L, size=2)\n",
        "            \n",
        "            # flip chosen spin with heat bath probability\n",
        "            # ...\n",
        "            \n",
        "```\n",
        "\n",
        "where `config` is the array with the spin configuration and `T` is the temperature."
      ]
    },
    {
      "cell_type": "code",
      "execution_count": null,
      "metadata": {
        "id": "dg0MeiC1ItUa"
      },
      "outputs": [],
      "source": []
    },
    {
      "cell_type": "markdown",
      "metadata": {
        "id": "2MNnyRXlItUb"
      },
      "source": [
        "### Compute physical observables"
      ]
    },
    {
      "cell_type": "markdown",
      "metadata": {
        "id": "2eZOmpAaItUc"
      },
      "source": [
        "- Run the same simulation as above for 10 temperatures in the range $[0.5, 4]$ but this\n",
        "  time with the heat bath algorithm. Use a lattice of size $6 \\times 6$.\n",
        "  If you want reasonably accurate results, you should make at least 5000 Monte Carlo steps. Note\n",
        "  that at every Monte Carlo step there are $N = L^2$ proposals. Store the results in numpy arrays."
      ]
    },
    {
      "cell_type": "code",
      "execution_count": null,
      "metadata": {
        "id": "KhTKPUoCItUc"
      },
      "outputs": [],
      "source": []
    },
    {
      "cell_type": "markdown",
      "metadata": {
        "id": "90ONHrBIItUc"
      },
      "source": [
        "- Make 4 plots of the absolute magnetization, the energy, the susceptibility and the specific heat as a function of temperature. Compare them with the ones obtained by the Metropolis-Hastings algorithm."
      ]
    },
    {
      "cell_type": "code",
      "execution_count": null,
      "metadata": {
        "id": "_devcwpnItUd"
      },
      "outputs": [],
      "source": []
    },
    {
      "cell_type": "markdown",
      "metadata": {
        "id": "kzbyPkbp0HxD"
      },
      "source": [
        "## Cluster algorithm\n",
        "\n",
        "This last algorithm is again a rejection-free algorithm. But unlike the two algorithms above, it\n",
        "will generate flips for multiple spins inside a cluster at the same time. The great advantage of\n",
        "cluster algorithms is that they do not suffer from the same critical slowdown as single-spin-flip\n",
        "algorithms do close to the phase transition.\n",
        "\n",
        "In the Wolff cluster algorithm, we grow a cluster with the following procedure:\n",
        "\n",
        "- Suppose we have already started constructing a cluster with all spins aligned\n",
        "\n",
        "- Pick a site on the border of the cluster and identify its neighbors that are\n",
        "  outside of the cluster\n",
        "  \n",
        "- If some of the neighbors are aligned with the spins in the cluster, include them\n",
        "  in the cluster with probability\n",
        "  \n",
        "  $$p=1-\\exp(-2\\beta)$$\n",
        "  \n",
        "- Continue by picking the other spins on the border\n",
        "\n",
        "- Proceed until the cluster stops growing\n",
        "\n",
        "- Eventually flip all the spins in the cluster\n",
        "\n",
        "At the very beginning, we start the construction of the cluster by choosing a random\n",
        "site that forms an initial cluster of size 1."
      ]
    },
    {
      "cell_type": "markdown",
      "metadata": {
        "id": "Hu_oj8GRItUe"
      },
      "source": [
        "### Wolff cluster moves\n",
        "\n",
        "- Write a function that will take a spin configuration and apply the Wolff cluster move on it.\n",
        "Note that in this case, we only perform a single cluster move because this generates\n",
        "a new configuration which is already quite independent from the previous one.\n",
        "This function can have this structure:\n",
        "\n",
        "\n",
        "```python\n",
        "def wolff(config, T):\n",
        "    \n",
        "    # pick a site\n",
        "    i, j = np.random.randint(L, size=2)\n",
        "    \n",
        "    # grow the cluster\n",
        "    # ...\n",
        "    \n",
        "    # flip all spins in the cluster\n",
        "    # ...\n",
        "```"
      ]
    },
    {
      "cell_type": "code",
      "execution_count": null,
      "metadata": {
        "id": "2v6HlSXaItUe"
      },
      "outputs": [],
      "source": []
    },
    {
      "cell_type": "markdown",
      "metadata": {
        "id": "HnyYnMBmItUe"
      },
      "source": [
        "### Compute physical observables\n",
        "\n",
        "- Run the same simulation as above for 10 temperatures in the range $[0.5, 4]$ but this\n",
        "  time with the Wolff cluster algorithm. Use a lattice of size $6 \\times 6$.\n",
        "  If you want reasonably accurate results, you should make at least 5000 Monte Carlo steps. Note\n",
        "  that this time there is only a single cluster construction at every step. Store the results in numpy arrays."
      ]
    },
    {
      "cell_type": "code",
      "execution_count": null,
      "metadata": {
        "id": "Q0Zh3eszItUf"
      },
      "outputs": [],
      "source": []
    },
    {
      "cell_type": "markdown",
      "metadata": {
        "id": "eDFAP4YYItUg"
      },
      "source": [
        "- Make 4 plots of the absolute magnetization, the energy, the susceptibility and the specific heat as a function of temperature. Compare them with the ones obtained by the Metropolis-Hastings algorithm."
      ]
    },
    {
      "cell_type": "code",
      "execution_count": null,
      "metadata": {
        "id": "9xw2G5BzItUg"
      },
      "outputs": [],
      "source": []
    },
    {
      "cell_type": "markdown",
      "metadata": {
        "id": "fg5QFZYjmWl9"
      },
      "source": [
        "### Critical exponent for the susceptibility\n",
        "\n",
        "Close to the transition, the magnetic susceptibility behaves as $\\chi\\propto |T-T_c|^{-1.75}$.\n",
        "Observing critical behaviors require quite large lattices. We will use a $20 \\times 20$\n",
        "lattice here because we do not want the simulation to become too long. But better results\n",
        "would be obtained on a larger lattice.\n",
        "\n",
        "- Calculate the susceptibility at 10 equidistant points in the interval $[T_c+0.05,4]$\n",
        "  and store it. You can use 20000 Monte Carlo steps. Note that this simulation takes a bit of\n",
        "  time..."
      ]
    },
    {
      "cell_type": "code",
      "execution_count": null,
      "metadata": {
        "id": "u70F0sa8ItUi"
      },
      "outputs": [],
      "source": []
    },
    {
      "cell_type": "markdown",
      "metadata": {
        "id": "l-gGHy5NItUi"
      },
      "source": [
        "- Plot the result as a function of $T-T_c$ in a log-log plot. Compare it with the\n",
        "  expected behavior $|T-T_c|^{-1.75}$. Comment the result."
      ]
    },
    {
      "cell_type": "code",
      "execution_count": null,
      "metadata": {
        "id": "Ck1IdpsoItUj"
      },
      "outputs": [],
      "source": []
    },
    {
      "cell_type": "markdown",
      "metadata": {
        "id": "SzblHxNX0rNv"
      },
      "source": [
        "### System size dependence\n",
        "\n",
        "Phase transitions only exist for inifinite systems. On finite-size systems, physical quantities\n",
        "do not diverge and only show some structure close to the critical temperature. Finding a precise\n",
        "estimate of the critical temperature then requires to perform a finite-size scaling analysis.\n",
        "We will not do that here, but it is still interesting to see how results depend on the lattice\n",
        "size.\n",
        "\n",
        "- Calculate the susceptibility $\\chi$ for systems with linear sizes $L = 2, 4, 6, 8, 10, 12$\n",
        "  for 10 temperatures in the range $[2, 3]$. You can use 5000 Monte Carlo steps.\n",
        "  Plot the results together with a line showing the $T_c$ for the phase transition.\n",
        "  Comment your results."
      ]
    },
    {
      "cell_type": "code",
      "execution_count": null,
      "metadata": {
        "id": "hbHwMPlLItUj"
      },
      "outputs": [],
      "source": []
    }
  ],
  "metadata": {
    "colab": {
      "collapsed_sections": [],
      "provenance": []
    },
    "kernelspec": {
      "display_name": "Python 3.9.7 ('base')",
      "language": "python",
      "name": "python3"
    },
    "language_info": {
      "codemirror_mode": {
        "name": "ipython",
        "version": 3
      },
      "file_extension": ".py",
      "mimetype": "text/x-python",
      "name": "python",
      "nbconvert_exporter": "python",
      "pygments_lexer": "ipython3",
      "version": "3.9.7"
    },
    "vscode": {
      "interpreter": {
        "hash": "3cc6e0ac1b86c4c951d966564e11dad34f77a6fd97090ff5a8f97422f57adefa"
      }
    }
  },
  "nbformat": 4,
  "nbformat_minor": 0
}
