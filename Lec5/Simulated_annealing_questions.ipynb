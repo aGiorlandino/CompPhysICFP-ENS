{
  "cells": [
    {
      "cell_type": "markdown",
      "metadata": {
        "id": "1C4ex5pjGT4n"
      },
      "source": [
        "# Newton's kissing spheres and simulated annealing\n",
        "\n",
        "Newton asked whether it was possible to stack 13 spheres of unit\n",
        "radius $R=1$ around a fixed central sphere of radius 1. The 13 spheres must be in contact with the central one but have no overlap\n",
        "between them. Another way to\n",
        "phrase the same question is to ask what can be the maximum\n",
        "radius $R$ for 13 spheres stacked around the central one\n",
        "(that is always of unit radius). This is the question we will try to answer numerically. We will use two approaches:\n",
        "\n",
        "- Direct sampling\n",
        "- Simulated annealing\n",
        "\n",
        "Let us import the relevant libraries here. There is a bit more this time because we will do some 3D graphics."
      ]
    },
    {
      "cell_type": "code",
      "execution_count": 1,
      "metadata": {
        "id": "RefrpXfbuB20"
      },
      "outputs": [],
      "source": [
        "import numpy as np\n",
        "import matplotlib.pyplot as plt\n",
        "import scipy.spatial\n",
        "from mpl_toolkits.mplot3d import Axes3D"
      ]
    },
    {
      "cell_type": "markdown",
      "metadata": {
        "id": "oCGv04ROS3tr"
      },
      "source": [
        "## Direct sampling\n",
        "\n",
        "The central sphere on which we will be depositing our 13 spheres is of radius 1. We place it at the origin. The 13 spheres have radius R. Because they are in contact with the central sphere, the centers of the 13 spheres are all at a distance $1+R$ from the origin.\n",
        "\n",
        "\n"
      ]
    },
    {
      "cell_type": "markdown",
      "metadata": {
        "id": "z8G5YKkjuKNn"
      },
      "source": [
        "- What is the condition that the centers of the 13 spheres need\n",
        "to satisfy to ensure that there is no overlap?"
      ]
    },
    {
      "cell_type": "markdown",
      "metadata": {
        "id": "XBw-q0plI0Cr"
      },
      "source": [
        "- Write a program that tries to find a configuration for 13 spheres of radius $R$ so that they have no overlap. Start with a small\n",
        "value for $R = 0.4$. Then, use direct sampling in order to\n",
        "generate a random set of 13 vectors of norm $1+R$ indicating the positions of the centers of the 13 spheres. To do so, start by generating three Gaussian distributed $(x,y,z)$ and then normalize the vector so that it has length $1+R$. Generate 13 such points and then check whether there are overlaps. Proceed like this until you generate a legal configuration. Keep track of the number of attempts that are needed. Then, increase $R$ slowly and observe how the number of attempts increases. Is this a good strategy?\n",
        "\n",
        "  _Hint_: the function `scipy.spatial.distance_matrix(v1, v2)` computes all pair-wise distances between two lists of points `v1` and `v2`."
      ]
    },
    {
      "cell_type": "code",
      "execution_count": null,
      "metadata": {
        "id": "3-oZsxHx94du"
      },
      "outputs": [],
      "source": []
    },
    {
      "cell_type": "markdown",
      "metadata": {
        "id": "eGzl22PKsJTr"
      },
      "source": [
        "## Plotting the spheres\n",
        "\n",
        "It can be nice to create a figure with all the spheres. The code below defines the function `draw_all_spheres` which\n",
        "will do that."
      ]
    },
    {
      "cell_type": "code",
      "execution_count": null,
      "metadata": {
        "id": "tq6GXF_dsJTs",
        "scrolled": false
      },
      "outputs": [],
      "source": [
        "def draw_single_sphere(ax, origin, radius, nmesh, color='c'):\n",
        "\n",
        "    phi, theta = np.mgrid[0.0:np.pi:nmesh*1j, 0.0:2.0*np.pi:nmesh*1j]\n",
        "    x = origin[0] + radius * np.sin(phi) * np.cos(theta)\n",
        "    y = origin[1] + radius * np.sin(phi) * np.sin(theta)\n",
        "    z = origin[2] + radius * np.cos(phi)\n",
        "\n",
        "    ax.plot_surface(x, y, z,  rstride=1, cstride=1, \\\n",
        "                    color=color, alpha=0.7, linewidth=0)\n",
        "\n",
        "def draw_all_spheres(centers, radius, nmesh=20):\n",
        "\n",
        "    # create 3d figure\n",
        "    fig = plt.figure(figsize=(8,8))\n",
        "    ax = fig.add_subplot(111, projection='3d')\n",
        "\n",
        "    # central sphere\n",
        "    draw_single_sphere(ax, [0,0,0], 1.0, nmesh)\n",
        "\n",
        "    # other spheres\n",
        "    for center in centers:\n",
        "        draw_single_sphere(ax, center, radius, nmesh, 'r')\n",
        "\n",
        "    # cosmetics\n",
        "    L = 1+R\n",
        "    ax.set_xlim([-L,L])\n",
        "    ax.set_ylim([-L,L])\n",
        "    ax.set_zlim([-L,L])\n",
        "    ax.set_aspect(\"auto\")\n",
        "    ax.set_axis_off()\n",
        "    ax.set_title(\"Newton spheres\", fontsize=20)"
      ]
    },
    {
      "cell_type": "markdown",
      "metadata": {
        "id": "_gsw-JF0sJTv"
      },
      "source": [
        "- Make a plot of the configuration that has been found above"
      ]
    },
    {
      "cell_type": "code",
      "execution_count": null,
      "metadata": {
        "id": "c5eTAVu297o6"
      },
      "outputs": [],
      "source": []
    },
    {
      "cell_type": "markdown",
      "metadata": {
        "id": "bD8IivtNKDTk"
      },
      "source": [
        "## Simulated annealing\n",
        "\n",
        "The direct sampling approach very quickly becomes\n",
        "problematic. A much more efficient strategy is to use simulated annealing. The idea is to run a Markov chain algorithm that samples allowed sphere configurations while slowly increasing the radius of the spheres. The procedure ends when it is no longer possible to increase the radii.\n",
        "\n",
        "More precisely, the algorithm goes as follows:\n",
        "\n",
        "1. Start with a small radius, say $R=0.4$ and generate a first legal configuration. You already wrote the code for that.\n",
        "\n",
        "2. Move the spheres around by shifting their positions randomly. Use a Gaussian distribution of width $\\sigma$ to generate the displacement vectors. Only accept moves that generate allowed configurations. Keep track of how many moves are accepted and rejected.\n",
        "\n",
        "3. After a certain number $N_\\mathrm{thumb}$ of moves, estimate the acceptance ratio for the moves from the ratio between the number accepted moves and the total number of moves $N_\\mathrm{thumb}$. You can take $N_\\mathrm{thumb}$ between 100 and 1000.\n",
        "\n",
        "4. Try to have an acceptance rate close to the thumb rule. Anything between 0.4 and 0.6 will be fine. If your acceptance rate is not in this interval, adjust the width $\\sigma$ of the Gaussian distribution. You can multiply or divide $\\sigma$ by 2 to produce a new acceptance rate.\n",
        "\n",
        "5. When the acceptance rate is fine, increase the radius $R$ of the spheres. There is a maximum value $R_\\mathrm{max}$ for the radius that will still avoid overlaps between the spheres. It is however not a good idea to increase $R$ directly to $R_\\mathrm{max}$. This has a tendency to create jammed configurations. Rather pick a new value of $R \\to R + \\gamma (R_\\mathrm{max}-R)$. You can take $\\gamma = 0.15$.\n",
        "\n",
        "6. Proceed to point 2 with the new value of $R$. You can stop the procedure after a certain number of steps.\n",
        "\n",
        "In general, annealing simulations can get jammed in a local minimum. For this particular problem, however, annealing works very well."
      ]
    },
    {
      "cell_type": "markdown",
      "metadata": {
        "id": "T_Bdt-BasJTz"
      },
      "source": [
        "- Implement the annealing algorithm described above. Make sure you keep track of the value of $R$ during the simulation. You can also compute the density of packing of the spherical caps on top of the central sphere:\n",
        "\n",
        "$$\n",
        "\\rho=\\frac{N}{2} \\left(1-\\sqrt{1-r^2}\\right) \\qquad \\text{with} \\qquad r = \\frac{1}{1 + 1/R}\n",
        "$$"
      ]
    },
    {
      "cell_type": "code",
      "execution_count": null,
      "metadata": {},
      "outputs": [],
      "source": []
    },
    {
      "cell_type": "code",
      "execution_count": null,
      "metadata": {
        "id": "SZd4ZgjC99_1"
      },
      "outputs": [],
      "source": [
        "starting_config="
      ]
    },
    {
      "cell_type": "markdown",
      "metadata": {
        "id": "JtcACe2DsJT2"
      },
      "source": [
        "- Print the final radius and final density. Plot the final configuration of spheres."
      ]
    },
    {
      "cell_type": "code",
      "execution_count": null,
      "metadata": {
        "id": "odXo9_6C-APz"
      },
      "outputs": [],
      "source": []
    },
    {
      "cell_type": "markdown",
      "metadata": {
        "id": "DMH_fAmDsJT3"
      },
      "source": [
        "- Plot the evolution of the radius and of the density as a function of simulation steps. See how things\n",
        "  change if you take different values for $\\gamma$."
      ]
    },
    {
      "cell_type": "code",
      "execution_count": null,
      "metadata": {
        "id": "jNEoA37a-B7N"
      },
      "outputs": [],
      "source": []
    }
  ],
  "metadata": {
    "colab": {
      "collapsed_sections": [],
      "provenance": []
    },
    "kernelspec": {
      "display_name": "Python 3.9.7 ('base')",
      "language": "python",
      "name": "python3"
    },
    "language_info": {
      "codemirror_mode": {
        "name": "ipython",
        "version": 3
      },
      "file_extension": ".py",
      "mimetype": "text/x-python",
      "name": "python",
      "nbconvert_exporter": "python",
      "pygments_lexer": "ipython3",
      "version": "3.9.7"
    },
    "vscode": {
      "interpreter": {
        "hash": "3cc6e0ac1b86c4c951d966564e11dad34f77a6fd97090ff5a8f97422f57adefa"
      }
    }
  },
  "nbformat": 4,
  "nbformat_minor": 0
}
