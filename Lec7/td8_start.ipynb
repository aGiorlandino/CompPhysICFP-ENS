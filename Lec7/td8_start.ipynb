{
 "cells": [
  {
   "cell_type": "code",
   "execution_count": 1,
   "metadata": {},
   "outputs": [],
   "source": [
    "# Tutorial 8, Analysis of quantic trajectories of atoms in a cavity to infer the numbers of photons in the cavity\n",
    "\n",
    "import numpy as np\n",
    "import math\n",
    "import matplotlib.pyplot as plt\n",
    "from scipy.sparse import coo_matrix\n",
    "import numpy.matlib\n",
    "import csv\n",
    "import pandas as pd\n",
    "\n",
    "#2 files containing  atomic detections in spin state 0 (ground state) 'stateG.dat' or spin state  1 'stateE.dat'\n",
    "\n",
    "\n",
    "# they are a matrix M x T where M=2000 is the number of independent experiments\n",
    "#each  of such trajectory  (rows of the matrix) having  T=10000 detections d, having  d=0 if no atom \n",
    "#have been detected or d=1,2,3 indicating the number of atoms detecyed in the corresponding spin=0 or 1 state.\n",
    "\n",
    "#Mex=M\n",
    "#T=Md\n",
    "\n",
    "T=10000\n",
    "M=2000\n",
    "\n",
    "#Open and read the files:\n",
    "\n",
    "f0=open(\"Data/stateG.dat\")\n",
    "\n",
    "l=0\n",
    "\n",
    "de=np.zeros((M,T)).astype(int)\n",
    "for row in csv.reader(f0):\n",
    "    de[l,:]=row\n",
    "    l=l+1\n",
    "    \n",
    "f1=open(\"Data/stateE.dat\")\n",
    "\n",
    "l=0\n",
    "dg=np.zeros((M,T)).astype(int)\n",
    "for row in csv.reader(f1):\n",
    "    dg[l,:]=row\n",
    "    l=l+1\n",
    "    \n",
    "\n",
    "\n",
    "\n"
   ]
  },
  {
   "cell_type": "code",
   "execution_count": 2,
   "metadata": {},
   "outputs": [],
   "source": [
    "unique_phi=np.array([-0.836, 0.033, 0.905, 1.442])\n",
    "phi=np.tile(unique_phi, int(T/np.shape(unique_phi)[0]))"
   ]
  },
  {
   "cell_type": "code",
   "execution_count": 3,
   "metadata": {},
   "outputs": [],
   "source": [
    "A=0.551\n",
    "B=0.698\n",
    "theta=0.233*np.pi\n",
    "def P_g(phi, n) : return (A-B/2*np.cos(n*theta+phi))\n",
    "def P_e(phi, n) : return ((1-A) + B/2*np.cos(n*theta+phi))"
   ]
  },
  {
   "cell_type": "code",
   "execution_count": 16,
   "metadata": {},
   "outputs": [],
   "source": [
    "renorm=500\n",
    "n_range=np.arange(8)\n",
    "\n",
    "\n",
    "def likelihood(dg, de, phi, n):\n",
    "    temp= np.log(P_g(phi, n))*dg + np.log(P_e(phi, n))*de\n",
    "    return np.exp(temp + renorm)\n",
    "\n",
    "def Z(dg, de, phi):\n",
    "    c=0\n",
    "    for n in range(8):\n",
    "        c+=likelihood(dg, de, phi, n)\n",
    "    return c\n",
    "\n",
    "def posterior(dg, de, phi, n):\n",
    "    post= likelihood(dg, de, phi, n)/Z(dg, de, phi)\n",
    "    return post\n",
    "\n",
    "def experiment(index, dg, de, phi):\n",
    "    post=[]\n",
    "    for t in range(T):\n",
    "        post.append(posterior(dg[index,t], de[index,t], phi[t], n_range))\n",
    "    return post\n",
    "\n"
   ]
  },
  {
   "cell_type": "code",
   "execution_count": 21,
   "metadata": {},
   "outputs": [
    {
     "data": {
      "text/plain": [
       "(10000,)"
      ]
     },
     "execution_count": 21,
     "metadata": {},
     "output_type": "execute_result"
    }
   ],
   "source": []
  },
  {
   "cell_type": "code",
   "execution_count": 30,
   "metadata": {},
   "outputs": [
    {
     "data": {
      "text/plain": [
       "[<matplotlib.lines.Line2D at 0x7fedda7ddf10>]"
      ]
     },
     "execution_count": 30,
     "metadata": {},
     "output_type": "execute_result"
    },
    {
     "data": {
      "image/png": "[encoded data removed]",
      "text/plain": [
       "<Figure size 432x288 with 1 Axes>"
      ]
     },
     "metadata": {
      "needs_background": "light"
     },
     "output_type": "display_data"
    }
   ],
   "source": [
    "n_range=np.arange(8)\n",
    "plt.plot(np.arange(400,400+12), np.argmax(experiment(1163, dg, de, phi),axis=1)[400:400+12])"
   ]
  },
  {
   "cell_type": "code",
   "execution_count": null,
   "metadata": {},
   "outputs": [],
   "source": []
  }
 ],
 "metadata": {
  "anaconda-cloud": {},
  "kernelspec": {
   "display_name": "Python 3.9.7 ('base')",
   "language": "python",
   "name": "python3"
  },
  "language_info": {
   "codemirror_mode": {
    "name": "ipython",
    "version": 3
   },
   "file_extension": ".py",
   "mimetype": "text/x-python",
   "name": "python",
   "nbconvert_exporter": "python",
   "pygments_lexer": "ipython3",
   "version": "3.9.7"
  },
  "vscode": {
   "interpreter": {
    "hash": "3cc6e0ac1b86c4c951d966564e11dad34f77a6fd97090ff5a8f97422f57adefa"
   }
  }
 },
 "nbformat": 4,
 "nbformat_minor": 1
}
