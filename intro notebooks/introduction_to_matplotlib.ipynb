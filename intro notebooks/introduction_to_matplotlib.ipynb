{
  "nbformat": 4,
  "nbformat_minor": 0,
  "metadata": {
    "kernelspec": {
      "display_name": "Python 3",
      "language": "python",
      "name": "python3"
    },
    "language_info": {
      "codemirror_mode": {
        "name": "ipython",
        "version": 3
      },
      "file_extension": ".py",
      "mimetype": "text/x-python",
      "name": "python",
      "nbconvert_exporter": "python",
      "pygments_lexer": "ipython3",
      "version": "3.8.10"
    },
    "colab": {
      "provenance": [],
      "collapsed_sections": []
    }
  },
  "cells": [
    {
      "cell_type": "markdown",
      "metadata": {
        "id": "ZUOg8C0_50Zx"
      },
      "source": [
        "# Introduction to the `matplotlib` library\n",
        "\n",
        "`matplotlib` is a python plotting library that produces publication quality figures in\n",
        "a variety of formats. The website for the project is\n",
        "[matplotlib.org](http://www.matplotlib.org). In order to start using `matplotlib` in your notebooks you must\n",
        "add the following lines in the beginning of your notebook."
      ]
    },
    {
      "cell_type": "code",
      "metadata": {
        "id": "OT5Sbmli50Z4"
      },
      "source": [
        "%matplotlib inline\n",
        "import matplotlib.pyplot as plt\n",
        "\n",
        "# You can add the lines below to make the figures larger\n",
        "# import matplotlib as mpl\n",
        "# mpl.rcParams['savefig.dpi']=100 "
      ],
      "execution_count": null,
      "outputs": []
    },
    {
      "cell_type": "markdown",
      "metadata": {
        "id": "QRTGZ4Ob50Z7"
      },
      "source": [
        "The second line is importing the relevant part of the ```matplotlib``` library under the\n",
        "name ```plt```. The first line is not a ```python``` command, it just tells the notebook that\n",
        "the output of plotting commands should be integrated directly into the notebook. This is\n",
        "what the word ```inline``` means.\n",
        "\n",
        "The project aims to have a similar syntax to ```Matlab```, so if you are familiar with that,\n",
        "you should be able to quickly get used to ```matplotlib```, and if you are not, you will notice\n",
        "that the syntax is quite self-explanatory.\n",
        "\n",
        "## A first example\n",
        "\n",
        "The code below is the first example plotting the cosine function in the interval\n",
        "$[ 0, 2\\pi ]$."
      ]
    },
    {
      "cell_type": "code",
      "metadata": {
        "id": "6Jitnyhc50Z8"
      },
      "source": [
        "import numpy as np\n",
        "\n",
        "x_points = np.linspace(0, 2*np.pi, 30)\n",
        "y_points = np.cos(x_points)\n",
        "\n",
        "plt.plot(x_points, y_points)"
      ],
      "execution_count": null,
      "outputs": []
    },
    {
      "cell_type": "markdown",
      "metadata": {
        "id": "PPktcxP950Z-"
      },
      "source": [
        "## Making plots pretty\n",
        "\n",
        "If you want to plot several data lines, just call the `plot` function several\n",
        "times. Then you can work on the color and style of the lines by adding\n",
        "arguments to the `plot` function as below. You can also see how labels,\n",
        "legends, etc. are added. The commands are self-explanatory."
      ]
    },
    {
      "cell_type": "code",
      "metadata": {
        "id": "l1oSaLKn50aA"
      },
      "source": [
        "x_points = np.linspace(0, 2*np.pi, 30)\n",
        "y1_points = np.cos(x_points)\n",
        "y2_points = np.sin(x_points)\n",
        "\n",
        "# The plot with line styling\n",
        "plt.plot(x_points, y1_points, color='tab:blue', linestyle='-', linewidth=3, marker='o', label=\"cosine\")\n",
        "plt.plot(x_points, y2_points, color='tab:red', linestyle='--', linewidth=2, marker='x', label=\"sine\")\n",
        "\n",
        "# Add title, labels, etc.\n",
        "plt.title(\"Two functions\", fontsize=22)\n",
        "plt.xlabel(r\"$\\theta$\", fontsize=18)\n",
        "plt.ylabel(r\"$\\cos(\\theta)$, $\\sin(\\theta)$\", fontsize=18)\n",
        "plt.legend(fontsize=16)\n",
        "plt.xlim(0, 2*np.pi)\n",
        "plt.ylim(-1.2, 1.2)"
      ],
      "execution_count": null,
      "outputs": []
    },
    {
      "cell_type": "markdown",
      "metadata": {
        "id": "NiacqLBc50aB"
      },
      "source": [
        "## Shortcut style\n",
        "\n",
        "Instead of specifying several arguments to describe the style of a line, you can\n",
        "use a shortcut notation:"
      ]
    },
    {
      "cell_type": "code",
      "metadata": {
        "id": "SQ-nzwOK50aC"
      },
      "source": [
        "import numpy as np\n",
        "\n",
        "x_points = np.linspace(0, 2*np.pi, 30)\n",
        "y_points = np.cos(x_points)\n",
        "\n",
        "# look at the shortcut style\n",
        "plt.plot(x_points, y_points, 'o-r', lw=2) # o-r means use circles, a solid line and red color"
      ],
      "execution_count": null,
      "outputs": []
    },
    {
      "cell_type": "markdown",
      "source": [
        "## Plotting two-dimensional arrays\n",
        "\n",
        "It is often useful to have a visualization of the content of a two-dimensional array. This can be done with either `plt.matshow` or `plt.imshow`."
      ],
      "metadata": {
        "id": "FhDq75IsNjHV"
      }
    },
    {
      "cell_type": "code",
      "source": [
        "data = np.arange(9).reshape(3,3)\n",
        "plt.matshow(data)\n",
        "plt.colorbar(shrink=0.8)"
      ],
      "metadata": {
        "id": "E2BKSqGUNgGd"
      },
      "execution_count": null,
      "outputs": []
    },
    {
      "cell_type": "markdown",
      "source": [
        "Something very similar can be obtained with `plt.pcolormesh`. The ordering of elements is however different, with `data[0,0]` on the bottom left."
      ],
      "metadata": {
        "id": "TYJDhbugf07n"
      }
    },
    {
      "cell_type": "code",
      "source": [
        "plt.pcolormesh(data)\n",
        "plt.gca().set_aspect('equal')\n",
        "plt.colorbar()"
      ],
      "metadata": {
        "id": "JRWiCfa5f0pF"
      },
      "execution_count": null,
      "outputs": []
    },
    {
      "cell_type": "markdown",
      "metadata": {
        "id": "38xzrD0B50aD"
      },
      "source": [
        "## More examples\n",
        "\n",
        "Below are some more examples that you can look at. You can in particular see\n",
        "how the `subplots` command works. In the case of several subplots it can be useful to use a more *pythonic* way to create plots, so that the different subplots can easily be accessed."
      ]
    },
    {
      "cell_type": "code",
      "metadata": {
        "id": "xitvvGww50aF"
      },
      "source": [
        "fig, ax = plt.subplots()\n",
        "xr = np.arange(0, 3, 0.1)\n",
        "yr1 = np.exp(xr) * (np.sin(5 * xr))\n",
        "yr2 = np.exp(xr) * (np.cos(5 * xr))\n",
        "ax.plot(xr, yr1, '-r', lw=3, label='a first curve')\n",
        "ax.plot(xr, yr2, '--b', lw=3, label='$e^{x} \\cos(5 x)$')\n",
        "ax.legend()\n",
        "ax.set_xlabel('time $t$')\n",
        "ax.set_ylabel('$\\int \\, \\cos(t) $')\n",
        "\n",
        "fig, ax = plt.subplots()\n",
        "ax.plot(xr, yr1*3., '-.b^', lw=1, label='a second curve')\n",
        "ax.legend()\n",
        "ax.set_xlabel('time $t$')\n",
        "ax.set_ylabel('$\\int \\, \\cos(t) $')\n",
        "\n",
        "fig, axes = plt.subplots(2,1)\n",
        "axes[0].plot(xr, yr1,'-r', lw=3, label='a first curve')\n",
        "axes[0].legend()\n",
        "axes[0].set_ylabel('$\\int \\, \\cos(t) $')\n",
        "axes[1].plot(xr, yr2, '--b', lw=3, label='$e^{x} \\cos(5 x)$')\n",
        "axes[1].legend()\n",
        "axes[1].set_xlabel('time $t$')\n",
        "axes[1].set_ylabel('$\\int \\, \\cos(t) $')\n",
        "\n",
        "fig, axes = plt.subplots(1,2)\n",
        "fig.suptitle(\"Big title\", fontsize=16)\n",
        "axes[0].set_title('Left title')\n",
        "axes[0].plot(xr, yr1, '-r', lw=3, label='a first curve')\n",
        "axes[0].legend()\n",
        "axes[0].set_ylabel('$\\int \\, \\cos(t) $')\n",
        "axes[0].set_xlabel('time $t$')\n",
        "axes[1].grid(True)\n",
        "axes[1].set_title('Right title')\n",
        "axes[1].plot(xr, yr2, '--b', lw=3, label='$e^{x} \\cos(5 x)$')\n",
        "axes[1].legend()\n",
        "axes[1].set_xlabel('time $t$')"
      ],
      "execution_count": null,
      "outputs": []
    },
    {
      "cell_type": "markdown",
      "metadata": {
        "collapsed": true,
        "id": "mNcqsPKn50aG"
      },
      "source": [
        "## More information\n",
        "\n",
        "`matplotlib` can do an incredible number of things. Pretty much any (especially 2d) plot\n",
        "you can think of. The best strategy is usually to look at examples (as those in the\n",
        "gallery of the `matplotlib` website) and see the code that produced them. Then you can\n",
        "adapt them to your needs.\n",
        "\n",
        "- This is the [matplotlib introduction](http://www.scipy-lectures.org/intro/matplotlib/matplotlib.html)\n",
        "  of the scipy lectures.\n",
        "- You can look at the documentation on the [matplotlib](http://matplotlib.org) website."
      ]
    }
  ]
}